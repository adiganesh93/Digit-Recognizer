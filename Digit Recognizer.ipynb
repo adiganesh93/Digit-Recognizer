{
 "cells": [
  {
   "cell_type": "markdown",
   "metadata": {},
   "source": [
    "# HW3 - DIGIT RECOGNIZER - NAIVE BAYES, RANDOM FOREST, SVM"
   ]
  },
  {
   "cell_type": "markdown",
   "metadata": {},
   "source": [
    "**In this report we will be Naive Bayes, Random Forest and Support Vector Machine on the 'Digit Recognizer' dataset to predict the digits 0 to 9 in handwriting images. We will also be experimenting with the algorithms by changing the parameters and tuning it, use cross validation technique to increase model performance.**"
   ]
  },
  {
   "cell_type": "markdown",
   "metadata": {},
   "source": [
    "# Importing the Libraries and Loading the Data:"
   ]
  },
  {
   "cell_type": "code",
   "execution_count": 90,
   "metadata": {},
   "outputs": [],
   "source": [
    "import matplotlib\n",
    "import matplotlib.pyplot as plt #For plotting\n",
    "%matplotlib inline\n",
    "import numpy as np #Provides fast numerical computing such as arrays and linear algebra\n",
    "import pandas as pd #Provides R like data structures and a high level API to work with data\n",
    "from pandas import DataFrame, Series\n",
    "import seaborn as sns\n",
    "import os\n",
    "import warnings # Ignore  the warnings\n",
    "warnings.filterwarnings('always')\n",
    "warnings.filterwarnings('ignore')\n",
    "from sklearn import preprocessing\n",
    "from sklearn import metrics\n",
    "from sklearn.metrics import roc_auc_score\n",
    "from sklearn.naive_bayes import GaussianNB, BernoulliNB, MultinomialNB\n",
    "from sklearn.model_selection import train_test_split, GridSearchCV, cross_val_score, ShuffleSplit,StratifiedKFold\n",
    "from sklearn import svm\n",
    "from sklearn.svm import SVC\n",
    "from sklearn.model_selection import ShuffleSplit\n",
    "from sklearn import model_selection\n",
    "import sklearn.ensemble as en\n",
    "from sklearn.metrics import classification_report\n",
    "from sklearn.model_selection import GridSearchCV"
   ]
  },
  {
   "cell_type": "markdown",
   "metadata": {},
   "source": [
    "**Once the required libraries are loaded, we can go ahead and intialize the dataset.**"
   ]
  },
  {
   "cell_type": "code",
   "execution_count": 122,
   "metadata": {},
   "outputs": [],
   "source": [
    "train_data=pd.read_csv(\"C:/Users/Aditya Ganesh/Desktop/IST 707 - Data Analytics/HW3_Random forest_NB_SVM/train_data.csv\")\n",
    "test_data=pd.read_csv(\"C:/Users/Aditya Ganesh/Desktop/IST 707 - Data Analytics/HW3_Random forest_NB_SVM/test_data.csv\")\n",
    "test=pd.read_csv(\"C:/Users/Aditya Ganesh/Desktop/IST 707 - Data Analytics/HW3_Random forest_NB_SVM/test.csv\")"
   ]
  },
  {
   "cell_type": "markdown",
   "metadata": {},
   "source": [
    "# Data Exploration and Data Preprocessing"
   ]
  },
  {
   "cell_type": "code",
   "execution_count": 42,
   "metadata": {},
   "outputs": [
    {
     "data": {
      "text/plain": [
       "count       785\n",
       "unique        1\n",
       "top       False\n",
       "freq        785\n",
       "dtype: object"
      ]
     },
     "execution_count": 42,
     "metadata": {},
     "output_type": "execute_result"
    }
   ],
   "source": [
    "#Checking for count and null values in the train data\n",
    "train_data.isnull().any().describe()"
   ]
  },
  {
   "cell_type": "code",
   "execution_count": 43,
   "metadata": {},
   "outputs": [
    {
     "data": {
      "text/plain": [
       "count      785\n",
       "unique       2\n",
       "top       True\n",
       "freq       784\n",
       "dtype: object"
      ]
     },
     "execution_count": 43,
     "metadata": {},
     "output_type": "execute_result"
    }
   ],
   "source": [
    "#Checking for count and null values in the test data\n",
    "test_data.isnull().any().describe()"
   ]
  },
  {
   "cell_type": "code",
   "execution_count": 44,
   "metadata": {},
   "outputs": [
    {
     "data": {
      "text/html": [
       "<div>\n",
       "<style scoped>\n",
       "    .dataframe tbody tr th:only-of-type {\n",
       "        vertical-align: middle;\n",
       "    }\n",
       "\n",
       "    .dataframe tbody tr th {\n",
       "        vertical-align: top;\n",
       "    }\n",
       "\n",
       "    .dataframe thead th {\n",
       "        text-align: right;\n",
       "    }\n",
       "</style>\n",
       "<table border=\"1\" class=\"dataframe\">\n",
       "  <thead>\n",
       "    <tr style=\"text-align: right;\">\n",
       "      <th></th>\n",
       "      <th>label</th>\n",
       "      <th>pixel0</th>\n",
       "      <th>pixel1</th>\n",
       "      <th>pixel2</th>\n",
       "      <th>pixel3</th>\n",
       "      <th>pixel4</th>\n",
       "      <th>pixel5</th>\n",
       "      <th>pixel6</th>\n",
       "      <th>pixel7</th>\n",
       "      <th>pixel8</th>\n",
       "      <th>...</th>\n",
       "      <th>pixel774</th>\n",
       "      <th>pixel775</th>\n",
       "      <th>pixel776</th>\n",
       "      <th>pixel777</th>\n",
       "      <th>pixel778</th>\n",
       "      <th>pixel779</th>\n",
       "      <th>pixel780</th>\n",
       "      <th>pixel781</th>\n",
       "      <th>pixel782</th>\n",
       "      <th>pixel783</th>\n",
       "    </tr>\n",
       "  </thead>\n",
       "  <tbody>\n",
       "    <tr>\n",
       "      <th>0</th>\n",
       "      <td>7</td>\n",
       "      <td>0</td>\n",
       "      <td>0</td>\n",
       "      <td>0</td>\n",
       "      <td>0</td>\n",
       "      <td>0</td>\n",
       "      <td>0</td>\n",
       "      <td>0</td>\n",
       "      <td>0</td>\n",
       "      <td>0</td>\n",
       "      <td>...</td>\n",
       "      <td>0</td>\n",
       "      <td>0</td>\n",
       "      <td>0</td>\n",
       "      <td>0</td>\n",
       "      <td>0</td>\n",
       "      <td>0</td>\n",
       "      <td>0</td>\n",
       "      <td>0</td>\n",
       "      <td>0</td>\n",
       "      <td>0</td>\n",
       "    </tr>\n",
       "    <tr>\n",
       "      <th>1</th>\n",
       "      <td>1</td>\n",
       "      <td>0</td>\n",
       "      <td>0</td>\n",
       "      <td>0</td>\n",
       "      <td>0</td>\n",
       "      <td>0</td>\n",
       "      <td>0</td>\n",
       "      <td>0</td>\n",
       "      <td>0</td>\n",
       "      <td>0</td>\n",
       "      <td>...</td>\n",
       "      <td>0</td>\n",
       "      <td>0</td>\n",
       "      <td>0</td>\n",
       "      <td>0</td>\n",
       "      <td>0</td>\n",
       "      <td>0</td>\n",
       "      <td>0</td>\n",
       "      <td>0</td>\n",
       "      <td>0</td>\n",
       "      <td>0</td>\n",
       "    </tr>\n",
       "    <tr>\n",
       "      <th>2</th>\n",
       "      <td>6</td>\n",
       "      <td>0</td>\n",
       "      <td>0</td>\n",
       "      <td>0</td>\n",
       "      <td>0</td>\n",
       "      <td>0</td>\n",
       "      <td>0</td>\n",
       "      <td>0</td>\n",
       "      <td>0</td>\n",
       "      <td>0</td>\n",
       "      <td>...</td>\n",
       "      <td>0</td>\n",
       "      <td>0</td>\n",
       "      <td>0</td>\n",
       "      <td>0</td>\n",
       "      <td>0</td>\n",
       "      <td>0</td>\n",
       "      <td>0</td>\n",
       "      <td>0</td>\n",
       "      <td>0</td>\n",
       "      <td>0</td>\n",
       "    </tr>\n",
       "    <tr>\n",
       "      <th>3</th>\n",
       "      <td>5</td>\n",
       "      <td>0</td>\n",
       "      <td>0</td>\n",
       "      <td>0</td>\n",
       "      <td>0</td>\n",
       "      <td>0</td>\n",
       "      <td>0</td>\n",
       "      <td>0</td>\n",
       "      <td>0</td>\n",
       "      <td>0</td>\n",
       "      <td>...</td>\n",
       "      <td>0</td>\n",
       "      <td>0</td>\n",
       "      <td>0</td>\n",
       "      <td>0</td>\n",
       "      <td>0</td>\n",
       "      <td>0</td>\n",
       "      <td>0</td>\n",
       "      <td>0</td>\n",
       "      <td>0</td>\n",
       "      <td>0</td>\n",
       "    </tr>\n",
       "    <tr>\n",
       "      <th>4</th>\n",
       "      <td>0</td>\n",
       "      <td>0</td>\n",
       "      <td>0</td>\n",
       "      <td>0</td>\n",
       "      <td>0</td>\n",
       "      <td>0</td>\n",
       "      <td>0</td>\n",
       "      <td>0</td>\n",
       "      <td>0</td>\n",
       "      <td>0</td>\n",
       "      <td>...</td>\n",
       "      <td>0</td>\n",
       "      <td>0</td>\n",
       "      <td>0</td>\n",
       "      <td>0</td>\n",
       "      <td>0</td>\n",
       "      <td>0</td>\n",
       "      <td>0</td>\n",
       "      <td>0</td>\n",
       "      <td>0</td>\n",
       "      <td>0</td>\n",
       "    </tr>\n",
       "  </tbody>\n",
       "</table>\n",
       "<p>5 rows × 785 columns</p>\n",
       "</div>"
      ],
      "text/plain": [
       "   label  pixel0  pixel1  pixel2  pixel3  pixel4  pixel5  pixel6  pixel7  \\\n",
       "0      7       0       0       0       0       0       0       0       0   \n",
       "1      1       0       0       0       0       0       0       0       0   \n",
       "2      6       0       0       0       0       0       0       0       0   \n",
       "3      5       0       0       0       0       0       0       0       0   \n",
       "4      0       0       0       0       0       0       0       0       0   \n",
       "\n",
       "   pixel8  ...  pixel774  pixel775  pixel776  pixel777  pixel778  pixel779  \\\n",
       "0       0  ...         0         0         0         0         0         0   \n",
       "1       0  ...         0         0         0         0         0         0   \n",
       "2       0  ...         0         0         0         0         0         0   \n",
       "3       0  ...         0         0         0         0         0         0   \n",
       "4       0  ...         0         0         0         0         0         0   \n",
       "\n",
       "   pixel780  pixel781  pixel782  pixel783  \n",
       "0         0         0         0         0  \n",
       "1         0         0         0         0  \n",
       "2         0         0         0         0  \n",
       "3         0         0         0         0  \n",
       "4         0         0         0         0  \n",
       "\n",
       "[5 rows x 785 columns]"
      ]
     },
     "execution_count": 44,
     "metadata": {},
     "output_type": "execute_result"
    }
   ],
   "source": [
    "train_data.head()"
   ]
  },
  {
   "cell_type": "code",
   "execution_count": 45,
   "metadata": {},
   "outputs": [
    {
     "data": {
      "text/html": [
       "<div>\n",
       "<style scoped>\n",
       "    .dataframe tbody tr th:only-of-type {\n",
       "        vertical-align: middle;\n",
       "    }\n",
       "\n",
       "    .dataframe tbody tr th {\n",
       "        vertical-align: top;\n",
       "    }\n",
       "\n",
       "    .dataframe thead th {\n",
       "        text-align: right;\n",
       "    }\n",
       "</style>\n",
       "<table border=\"1\" class=\"dataframe\">\n",
       "  <thead>\n",
       "    <tr style=\"text-align: right;\">\n",
       "      <th></th>\n",
       "      <th>label</th>\n",
       "      <th>pixel0</th>\n",
       "      <th>pixel1</th>\n",
       "      <th>pixel2</th>\n",
       "      <th>pixel3</th>\n",
       "      <th>pixel4</th>\n",
       "      <th>pixel5</th>\n",
       "      <th>pixel6</th>\n",
       "      <th>pixel7</th>\n",
       "      <th>pixel8</th>\n",
       "      <th>...</th>\n",
       "      <th>pixel774</th>\n",
       "      <th>pixel775</th>\n",
       "      <th>pixel776</th>\n",
       "      <th>pixel777</th>\n",
       "      <th>pixel778</th>\n",
       "      <th>pixel779</th>\n",
       "      <th>pixel780</th>\n",
       "      <th>pixel781</th>\n",
       "      <th>pixel782</th>\n",
       "      <th>pixel783</th>\n",
       "    </tr>\n",
       "  </thead>\n",
       "  <tbody>\n",
       "    <tr>\n",
       "      <th>0</th>\n",
       "      <td>?</td>\n",
       "      <td>0.0</td>\n",
       "      <td>0.0</td>\n",
       "      <td>0.0</td>\n",
       "      <td>0.0</td>\n",
       "      <td>0.0</td>\n",
       "      <td>0.0</td>\n",
       "      <td>0.0</td>\n",
       "      <td>0.0</td>\n",
       "      <td>0.0</td>\n",
       "      <td>...</td>\n",
       "      <td>0.0</td>\n",
       "      <td>0.0</td>\n",
       "      <td>0.0</td>\n",
       "      <td>0.0</td>\n",
       "      <td>0.0</td>\n",
       "      <td>0.0</td>\n",
       "      <td>0.0</td>\n",
       "      <td>0.0</td>\n",
       "      <td>0.0</td>\n",
       "      <td>0.0</td>\n",
       "    </tr>\n",
       "    <tr>\n",
       "      <th>1</th>\n",
       "      <td>?</td>\n",
       "      <td>0.0</td>\n",
       "      <td>0.0</td>\n",
       "      <td>0.0</td>\n",
       "      <td>0.0</td>\n",
       "      <td>0.0</td>\n",
       "      <td>0.0</td>\n",
       "      <td>0.0</td>\n",
       "      <td>0.0</td>\n",
       "      <td>0.0</td>\n",
       "      <td>...</td>\n",
       "      <td>0.0</td>\n",
       "      <td>0.0</td>\n",
       "      <td>0.0</td>\n",
       "      <td>0.0</td>\n",
       "      <td>0.0</td>\n",
       "      <td>0.0</td>\n",
       "      <td>0.0</td>\n",
       "      <td>0.0</td>\n",
       "      <td>0.0</td>\n",
       "      <td>0.0</td>\n",
       "    </tr>\n",
       "    <tr>\n",
       "      <th>2</th>\n",
       "      <td>?</td>\n",
       "      <td>0.0</td>\n",
       "      <td>0.0</td>\n",
       "      <td>0.0</td>\n",
       "      <td>0.0</td>\n",
       "      <td>0.0</td>\n",
       "      <td>0.0</td>\n",
       "      <td>0.0</td>\n",
       "      <td>0.0</td>\n",
       "      <td>0.0</td>\n",
       "      <td>...</td>\n",
       "      <td>0.0</td>\n",
       "      <td>0.0</td>\n",
       "      <td>0.0</td>\n",
       "      <td>0.0</td>\n",
       "      <td>0.0</td>\n",
       "      <td>0.0</td>\n",
       "      <td>0.0</td>\n",
       "      <td>0.0</td>\n",
       "      <td>0.0</td>\n",
       "      <td>0.0</td>\n",
       "    </tr>\n",
       "    <tr>\n",
       "      <th>3</th>\n",
       "      <td>?</td>\n",
       "      <td>0.0</td>\n",
       "      <td>0.0</td>\n",
       "      <td>0.0</td>\n",
       "      <td>0.0</td>\n",
       "      <td>0.0</td>\n",
       "      <td>0.0</td>\n",
       "      <td>0.0</td>\n",
       "      <td>0.0</td>\n",
       "      <td>0.0</td>\n",
       "      <td>...</td>\n",
       "      <td>0.0</td>\n",
       "      <td>0.0</td>\n",
       "      <td>0.0</td>\n",
       "      <td>0.0</td>\n",
       "      <td>0.0</td>\n",
       "      <td>0.0</td>\n",
       "      <td>0.0</td>\n",
       "      <td>0.0</td>\n",
       "      <td>0.0</td>\n",
       "      <td>0.0</td>\n",
       "    </tr>\n",
       "    <tr>\n",
       "      <th>4</th>\n",
       "      <td>?</td>\n",
       "      <td>0.0</td>\n",
       "      <td>0.0</td>\n",
       "      <td>0.0</td>\n",
       "      <td>0.0</td>\n",
       "      <td>0.0</td>\n",
       "      <td>0.0</td>\n",
       "      <td>0.0</td>\n",
       "      <td>0.0</td>\n",
       "      <td>0.0</td>\n",
       "      <td>...</td>\n",
       "      <td>0.0</td>\n",
       "      <td>0.0</td>\n",
       "      <td>0.0</td>\n",
       "      <td>0.0</td>\n",
       "      <td>0.0</td>\n",
       "      <td>0.0</td>\n",
       "      <td>0.0</td>\n",
       "      <td>0.0</td>\n",
       "      <td>0.0</td>\n",
       "      <td>0.0</td>\n",
       "    </tr>\n",
       "  </tbody>\n",
       "</table>\n",
       "<p>5 rows × 785 columns</p>\n",
       "</div>"
      ],
      "text/plain": [
       "  label  pixel0  pixel1  pixel2  pixel3  pixel4  pixel5  pixel6  pixel7  \\\n",
       "0     ?     0.0     0.0     0.0     0.0     0.0     0.0     0.0     0.0   \n",
       "1     ?     0.0     0.0     0.0     0.0     0.0     0.0     0.0     0.0   \n",
       "2     ?     0.0     0.0     0.0     0.0     0.0     0.0     0.0     0.0   \n",
       "3     ?     0.0     0.0     0.0     0.0     0.0     0.0     0.0     0.0   \n",
       "4     ?     0.0     0.0     0.0     0.0     0.0     0.0     0.0     0.0   \n",
       "\n",
       "   pixel8  ...  pixel774  pixel775  pixel776  pixel777  pixel778  pixel779  \\\n",
       "0     0.0  ...       0.0       0.0       0.0       0.0       0.0       0.0   \n",
       "1     0.0  ...       0.0       0.0       0.0       0.0       0.0       0.0   \n",
       "2     0.0  ...       0.0       0.0       0.0       0.0       0.0       0.0   \n",
       "3     0.0  ...       0.0       0.0       0.0       0.0       0.0       0.0   \n",
       "4     0.0  ...       0.0       0.0       0.0       0.0       0.0       0.0   \n",
       "\n",
       "   pixel780  pixel781  pixel782  pixel783  \n",
       "0       0.0       0.0       0.0       0.0  \n",
       "1       0.0       0.0       0.0       0.0  \n",
       "2       0.0       0.0       0.0       0.0  \n",
       "3       0.0       0.0       0.0       0.0  \n",
       "4       0.0       0.0       0.0       0.0  \n",
       "\n",
       "[5 rows x 785 columns]"
      ]
     },
     "execution_count": 45,
     "metadata": {},
     "output_type": "execute_result"
    }
   ],
   "source": [
    "test_data.head()"
   ]
  },
  {
   "cell_type": "code",
   "execution_count": 46,
   "metadata": {},
   "outputs": [],
   "source": [
    "#Independent variables of training data\n",
    "X_train=train_data.iloc[:,1:]\n",
    "#Dependent variable of training data\n",
    "Y_train=train_data.iloc[:,0]"
   ]
  },
  {
   "cell_type": "code",
   "execution_count": 47,
   "metadata": {},
   "outputs": [
    {
     "data": {
      "text/html": [
       "<div>\n",
       "<style scoped>\n",
       "    .dataframe tbody tr th:only-of-type {\n",
       "        vertical-align: middle;\n",
       "    }\n",
       "\n",
       "    .dataframe tbody tr th {\n",
       "        vertical-align: top;\n",
       "    }\n",
       "\n",
       "    .dataframe thead th {\n",
       "        text-align: right;\n",
       "    }\n",
       "</style>\n",
       "<table border=\"1\" class=\"dataframe\">\n",
       "  <thead>\n",
       "    <tr style=\"text-align: right;\">\n",
       "      <th></th>\n",
       "      <th>pixel0</th>\n",
       "      <th>pixel1</th>\n",
       "      <th>pixel2</th>\n",
       "      <th>pixel3</th>\n",
       "      <th>pixel4</th>\n",
       "      <th>pixel5</th>\n",
       "      <th>pixel6</th>\n",
       "      <th>pixel7</th>\n",
       "      <th>pixel8</th>\n",
       "      <th>pixel9</th>\n",
       "      <th>...</th>\n",
       "      <th>pixel774</th>\n",
       "      <th>pixel775</th>\n",
       "      <th>pixel776</th>\n",
       "      <th>pixel777</th>\n",
       "      <th>pixel778</th>\n",
       "      <th>pixel779</th>\n",
       "      <th>pixel780</th>\n",
       "      <th>pixel781</th>\n",
       "      <th>pixel782</th>\n",
       "      <th>pixel783</th>\n",
       "    </tr>\n",
       "  </thead>\n",
       "  <tbody>\n",
       "    <tr>\n",
       "      <th>0</th>\n",
       "      <td>0</td>\n",
       "      <td>0</td>\n",
       "      <td>0</td>\n",
       "      <td>0</td>\n",
       "      <td>0</td>\n",
       "      <td>0</td>\n",
       "      <td>0</td>\n",
       "      <td>0</td>\n",
       "      <td>0</td>\n",
       "      <td>0</td>\n",
       "      <td>...</td>\n",
       "      <td>0</td>\n",
       "      <td>0</td>\n",
       "      <td>0</td>\n",
       "      <td>0</td>\n",
       "      <td>0</td>\n",
       "      <td>0</td>\n",
       "      <td>0</td>\n",
       "      <td>0</td>\n",
       "      <td>0</td>\n",
       "      <td>0</td>\n",
       "    </tr>\n",
       "    <tr>\n",
       "      <th>1</th>\n",
       "      <td>0</td>\n",
       "      <td>0</td>\n",
       "      <td>0</td>\n",
       "      <td>0</td>\n",
       "      <td>0</td>\n",
       "      <td>0</td>\n",
       "      <td>0</td>\n",
       "      <td>0</td>\n",
       "      <td>0</td>\n",
       "      <td>0</td>\n",
       "      <td>...</td>\n",
       "      <td>0</td>\n",
       "      <td>0</td>\n",
       "      <td>0</td>\n",
       "      <td>0</td>\n",
       "      <td>0</td>\n",
       "      <td>0</td>\n",
       "      <td>0</td>\n",
       "      <td>0</td>\n",
       "      <td>0</td>\n",
       "      <td>0</td>\n",
       "    </tr>\n",
       "    <tr>\n",
       "      <th>2</th>\n",
       "      <td>0</td>\n",
       "      <td>0</td>\n",
       "      <td>0</td>\n",
       "      <td>0</td>\n",
       "      <td>0</td>\n",
       "      <td>0</td>\n",
       "      <td>0</td>\n",
       "      <td>0</td>\n",
       "      <td>0</td>\n",
       "      <td>0</td>\n",
       "      <td>...</td>\n",
       "      <td>0</td>\n",
       "      <td>0</td>\n",
       "      <td>0</td>\n",
       "      <td>0</td>\n",
       "      <td>0</td>\n",
       "      <td>0</td>\n",
       "      <td>0</td>\n",
       "      <td>0</td>\n",
       "      <td>0</td>\n",
       "      <td>0</td>\n",
       "    </tr>\n",
       "    <tr>\n",
       "      <th>3</th>\n",
       "      <td>0</td>\n",
       "      <td>0</td>\n",
       "      <td>0</td>\n",
       "      <td>0</td>\n",
       "      <td>0</td>\n",
       "      <td>0</td>\n",
       "      <td>0</td>\n",
       "      <td>0</td>\n",
       "      <td>0</td>\n",
       "      <td>0</td>\n",
       "      <td>...</td>\n",
       "      <td>0</td>\n",
       "      <td>0</td>\n",
       "      <td>0</td>\n",
       "      <td>0</td>\n",
       "      <td>0</td>\n",
       "      <td>0</td>\n",
       "      <td>0</td>\n",
       "      <td>0</td>\n",
       "      <td>0</td>\n",
       "      <td>0</td>\n",
       "    </tr>\n",
       "    <tr>\n",
       "      <th>4</th>\n",
       "      <td>0</td>\n",
       "      <td>0</td>\n",
       "      <td>0</td>\n",
       "      <td>0</td>\n",
       "      <td>0</td>\n",
       "      <td>0</td>\n",
       "      <td>0</td>\n",
       "      <td>0</td>\n",
       "      <td>0</td>\n",
       "      <td>0</td>\n",
       "      <td>...</td>\n",
       "      <td>0</td>\n",
       "      <td>0</td>\n",
       "      <td>0</td>\n",
       "      <td>0</td>\n",
       "      <td>0</td>\n",
       "      <td>0</td>\n",
       "      <td>0</td>\n",
       "      <td>0</td>\n",
       "      <td>0</td>\n",
       "      <td>0</td>\n",
       "    </tr>\n",
       "  </tbody>\n",
       "</table>\n",
       "<p>5 rows × 784 columns</p>\n",
       "</div>"
      ],
      "text/plain": [
       "   pixel0  pixel1  pixel2  pixel3  pixel4  pixel5  pixel6  pixel7  pixel8  \\\n",
       "0       0       0       0       0       0       0       0       0       0   \n",
       "1       0       0       0       0       0       0       0       0       0   \n",
       "2       0       0       0       0       0       0       0       0       0   \n",
       "3       0       0       0       0       0       0       0       0       0   \n",
       "4       0       0       0       0       0       0       0       0       0   \n",
       "\n",
       "   pixel9  ...  pixel774  pixel775  pixel776  pixel777  pixel778  pixel779  \\\n",
       "0       0  ...         0         0         0         0         0         0   \n",
       "1       0  ...         0         0         0         0         0         0   \n",
       "2       0  ...         0         0         0         0         0         0   \n",
       "3       0  ...         0         0         0         0         0         0   \n",
       "4       0  ...         0         0         0         0         0         0   \n",
       "\n",
       "   pixel780  pixel781  pixel782  pixel783  \n",
       "0         0         0         0         0  \n",
       "1         0         0         0         0  \n",
       "2         0         0         0         0  \n",
       "3         0         0         0         0  \n",
       "4         0         0         0         0  \n",
       "\n",
       "[5 rows x 784 columns]"
      ]
     },
     "execution_count": 47,
     "metadata": {},
     "output_type": "execute_result"
    }
   ],
   "source": [
    "X_train.head()"
   ]
  },
  {
   "cell_type": "code",
   "execution_count": 48,
   "metadata": {},
   "outputs": [
    {
     "data": {
      "text/plain": [
       "0    7\n",
       "1    1\n",
       "2    6\n",
       "3    5\n",
       "4    0\n",
       "Name: label, dtype: int64"
      ]
     },
     "execution_count": 48,
     "metadata": {},
     "output_type": "execute_result"
    }
   ],
   "source": [
    "Y_train.head()"
   ]
  },
  {
   "cell_type": "code",
   "execution_count": 49,
   "metadata": {},
   "outputs": [
    {
     "data": {
      "text/plain": [
       "count     10.000000\n",
       "mean     140.000000\n",
       "std       11.264497\n",
       "min      127.000000\n",
       "25%      132.500000\n",
       "50%      138.500000\n",
       "75%      143.500000\n",
       "max      167.000000\n",
       "Name: label, dtype: float64"
      ]
     },
     "execution_count": 49,
     "metadata": {},
     "output_type": "execute_result"
    }
   ],
   "source": [
    "#Statistical summary of Dependent variable\n",
    "Y_train.value_counts().describe()"
   ]
  },
  {
   "cell_type": "code",
   "execution_count": 50,
   "metadata": {},
   "outputs": [],
   "source": [
    "#Independent variables of testing data\n",
    "X_test=test_data.iloc[:,1:]"
   ]
  },
  {
   "cell_type": "code",
   "execution_count": 51,
   "metadata": {},
   "outputs": [
    {
     "data": {
      "text/html": [
       "<div>\n",
       "<style scoped>\n",
       "    .dataframe tbody tr th:only-of-type {\n",
       "        vertical-align: middle;\n",
       "    }\n",
       "\n",
       "    .dataframe tbody tr th {\n",
       "        vertical-align: top;\n",
       "    }\n",
       "\n",
       "    .dataframe thead th {\n",
       "        text-align: right;\n",
       "    }\n",
       "</style>\n",
       "<table border=\"1\" class=\"dataframe\">\n",
       "  <thead>\n",
       "    <tr style=\"text-align: right;\">\n",
       "      <th></th>\n",
       "      <th>pixel0</th>\n",
       "      <th>pixel1</th>\n",
       "      <th>pixel2</th>\n",
       "      <th>pixel3</th>\n",
       "      <th>pixel4</th>\n",
       "      <th>pixel5</th>\n",
       "      <th>pixel6</th>\n",
       "      <th>pixel7</th>\n",
       "      <th>pixel8</th>\n",
       "      <th>pixel9</th>\n",
       "      <th>...</th>\n",
       "      <th>pixel774</th>\n",
       "      <th>pixel775</th>\n",
       "      <th>pixel776</th>\n",
       "      <th>pixel777</th>\n",
       "      <th>pixel778</th>\n",
       "      <th>pixel779</th>\n",
       "      <th>pixel780</th>\n",
       "      <th>pixel781</th>\n",
       "      <th>pixel782</th>\n",
       "      <th>pixel783</th>\n",
       "    </tr>\n",
       "  </thead>\n",
       "  <tbody>\n",
       "    <tr>\n",
       "      <th>0</th>\n",
       "      <td>0.0</td>\n",
       "      <td>0.0</td>\n",
       "      <td>0.0</td>\n",
       "      <td>0.0</td>\n",
       "      <td>0.0</td>\n",
       "      <td>0.0</td>\n",
       "      <td>0.0</td>\n",
       "      <td>0.0</td>\n",
       "      <td>0.0</td>\n",
       "      <td>0.0</td>\n",
       "      <td>...</td>\n",
       "      <td>0.0</td>\n",
       "      <td>0.0</td>\n",
       "      <td>0.0</td>\n",
       "      <td>0.0</td>\n",
       "      <td>0.0</td>\n",
       "      <td>0.0</td>\n",
       "      <td>0.0</td>\n",
       "      <td>0.0</td>\n",
       "      <td>0.0</td>\n",
       "      <td>0.0</td>\n",
       "    </tr>\n",
       "    <tr>\n",
       "      <th>1</th>\n",
       "      <td>0.0</td>\n",
       "      <td>0.0</td>\n",
       "      <td>0.0</td>\n",
       "      <td>0.0</td>\n",
       "      <td>0.0</td>\n",
       "      <td>0.0</td>\n",
       "      <td>0.0</td>\n",
       "      <td>0.0</td>\n",
       "      <td>0.0</td>\n",
       "      <td>0.0</td>\n",
       "      <td>...</td>\n",
       "      <td>0.0</td>\n",
       "      <td>0.0</td>\n",
       "      <td>0.0</td>\n",
       "      <td>0.0</td>\n",
       "      <td>0.0</td>\n",
       "      <td>0.0</td>\n",
       "      <td>0.0</td>\n",
       "      <td>0.0</td>\n",
       "      <td>0.0</td>\n",
       "      <td>0.0</td>\n",
       "    </tr>\n",
       "    <tr>\n",
       "      <th>2</th>\n",
       "      <td>0.0</td>\n",
       "      <td>0.0</td>\n",
       "      <td>0.0</td>\n",
       "      <td>0.0</td>\n",
       "      <td>0.0</td>\n",
       "      <td>0.0</td>\n",
       "      <td>0.0</td>\n",
       "      <td>0.0</td>\n",
       "      <td>0.0</td>\n",
       "      <td>0.0</td>\n",
       "      <td>...</td>\n",
       "      <td>0.0</td>\n",
       "      <td>0.0</td>\n",
       "      <td>0.0</td>\n",
       "      <td>0.0</td>\n",
       "      <td>0.0</td>\n",
       "      <td>0.0</td>\n",
       "      <td>0.0</td>\n",
       "      <td>0.0</td>\n",
       "      <td>0.0</td>\n",
       "      <td>0.0</td>\n",
       "    </tr>\n",
       "    <tr>\n",
       "      <th>3</th>\n",
       "      <td>0.0</td>\n",
       "      <td>0.0</td>\n",
       "      <td>0.0</td>\n",
       "      <td>0.0</td>\n",
       "      <td>0.0</td>\n",
       "      <td>0.0</td>\n",
       "      <td>0.0</td>\n",
       "      <td>0.0</td>\n",
       "      <td>0.0</td>\n",
       "      <td>0.0</td>\n",
       "      <td>...</td>\n",
       "      <td>0.0</td>\n",
       "      <td>0.0</td>\n",
       "      <td>0.0</td>\n",
       "      <td>0.0</td>\n",
       "      <td>0.0</td>\n",
       "      <td>0.0</td>\n",
       "      <td>0.0</td>\n",
       "      <td>0.0</td>\n",
       "      <td>0.0</td>\n",
       "      <td>0.0</td>\n",
       "    </tr>\n",
       "    <tr>\n",
       "      <th>4</th>\n",
       "      <td>0.0</td>\n",
       "      <td>0.0</td>\n",
       "      <td>0.0</td>\n",
       "      <td>0.0</td>\n",
       "      <td>0.0</td>\n",
       "      <td>0.0</td>\n",
       "      <td>0.0</td>\n",
       "      <td>0.0</td>\n",
       "      <td>0.0</td>\n",
       "      <td>0.0</td>\n",
       "      <td>...</td>\n",
       "      <td>0.0</td>\n",
       "      <td>0.0</td>\n",
       "      <td>0.0</td>\n",
       "      <td>0.0</td>\n",
       "      <td>0.0</td>\n",
       "      <td>0.0</td>\n",
       "      <td>0.0</td>\n",
       "      <td>0.0</td>\n",
       "      <td>0.0</td>\n",
       "      <td>0.0</td>\n",
       "    </tr>\n",
       "  </tbody>\n",
       "</table>\n",
       "<p>5 rows × 784 columns</p>\n",
       "</div>"
      ],
      "text/plain": [
       "   pixel0  pixel1  pixel2  pixel3  pixel4  pixel5  pixel6  pixel7  pixel8  \\\n",
       "0     0.0     0.0     0.0     0.0     0.0     0.0     0.0     0.0     0.0   \n",
       "1     0.0     0.0     0.0     0.0     0.0     0.0     0.0     0.0     0.0   \n",
       "2     0.0     0.0     0.0     0.0     0.0     0.0     0.0     0.0     0.0   \n",
       "3     0.0     0.0     0.0     0.0     0.0     0.0     0.0     0.0     0.0   \n",
       "4     0.0     0.0     0.0     0.0     0.0     0.0     0.0     0.0     0.0   \n",
       "\n",
       "   pixel9  ...  pixel774  pixel775  pixel776  pixel777  pixel778  pixel779  \\\n",
       "0     0.0  ...       0.0       0.0       0.0       0.0       0.0       0.0   \n",
       "1     0.0  ...       0.0       0.0       0.0       0.0       0.0       0.0   \n",
       "2     0.0  ...       0.0       0.0       0.0       0.0       0.0       0.0   \n",
       "3     0.0  ...       0.0       0.0       0.0       0.0       0.0       0.0   \n",
       "4     0.0  ...       0.0       0.0       0.0       0.0       0.0       0.0   \n",
       "\n",
       "   pixel780  pixel781  pixel782  pixel783  \n",
       "0       0.0       0.0       0.0       0.0  \n",
       "1       0.0       0.0       0.0       0.0  \n",
       "2       0.0       0.0       0.0       0.0  \n",
       "3       0.0       0.0       0.0       0.0  \n",
       "4       0.0       0.0       0.0       0.0  \n",
       "\n",
       "[5 rows x 784 columns]"
      ]
     },
     "execution_count": 51,
     "metadata": {},
     "output_type": "execute_result"
    }
   ],
   "source": [
    "X_test.head()"
   ]
  },
  {
   "cell_type": "code",
   "execution_count": 52,
   "metadata": {},
   "outputs": [],
   "source": [
    "#Fill na's in the testing data\n",
    "X_test.fillna(0, inplace=True)"
   ]
  },
  {
   "cell_type": "code",
   "execution_count": 53,
   "metadata": {},
   "outputs": [
    {
     "data": {
      "text/plain": [
       "count       784\n",
       "unique        1\n",
       "top       False\n",
       "freq        784\n",
       "dtype: object"
      ]
     },
     "execution_count": 53,
     "metadata": {},
     "output_type": "execute_result"
    }
   ],
   "source": [
    "X_test.isnull().any().describe()"
   ]
  },
  {
   "cell_type": "markdown",
   "metadata": {},
   "source": [
    "# Visualizing the label feature"
   ]
  },
  {
   "cell_type": "code",
   "execution_count": 54,
   "metadata": {},
   "outputs": [
    {
     "data": {
      "text/plain": [
       "<matplotlib.axes._subplots.AxesSubplot at 0x2604821e518>"
      ]
     },
     "execution_count": 54,
     "metadata": {},
     "output_type": "execute_result"
    },
    {
     "data": {
      "image/png": "[encoded data removed]",
      "text/plain": [
       "<Figure size 576x288 with 1 Axes>"
      ]
     },
     "metadata": {
      "needs_background": "light"
     },
     "output_type": "display_data"
    }
   ],
   "source": [
    "#Plot of label feature in the training data\n",
    "plt.figure(figsize=(8,4))\n",
    "sns.countplot(x=\"label\", data=Y_train.to_frame())"
   ]
  },
  {
   "cell_type": "code",
   "execution_count": 55,
   "metadata": {},
   "outputs": [
    {
     "data": {
      "image/png": "[encoded data removed]",
      "text/plain": [
       "<Figure size 432x288 with 1 Axes>"
      ]
     },
     "metadata": {
      "needs_background": "light"
     },
     "output_type": "display_data"
    }
   ],
   "source": [
    "#Displaying a sample data from the training set\n",
    "number = X_train.iloc[17] \n",
    "img_num = number.values.reshape(28, 28) \n",
    "plt.imshow(img_num,cmap = matplotlib.cm.binary,interpolation=\"nearest\")\n",
    "plt.show()"
   ]
  },
  {
   "cell_type": "markdown",
   "metadata": {},
   "source": [
    "# Scale the training data and testing data"
   ]
  },
  {
   "cell_type": "code",
   "execution_count": 56,
   "metadata": {},
   "outputs": [],
   "source": [
    "X_train_sc = X_train/255.0\n",
    "X_test_sc = X_test/255.0"
   ]
  },
  {
   "cell_type": "markdown",
   "metadata": {},
   "source": [
    "# Naive Bayes Model"
   ]
  },
  {
   "cell_type": "code",
   "execution_count": 57,
   "metadata": {},
   "outputs": [
    {
     "name": "stdout",
     "output_type": "stream",
     "text": [
      "Accuracy 59.93308617327857 %\n"
     ]
    }
   ],
   "source": [
    "# Implement the Gaussian Naive Bayes Model\n",
    "Gauss = GaussianNB()\n",
    "Gauss.fit(X_train_sc, Y_train)\n",
    "score_1 = cross_val_score(Gauss, X_train_sc, Y_train, scoring='accuracy', cv=10).mean()*100\n",
    "print('Accuracy' + \" \" + str(score_1) + \" \" + \"%\")"
   ]
  },
  {
   "cell_type": "markdown",
   "metadata": {},
   "source": [
    "**The Gaussian Naive Bayes model returns a low accuracy of 59.93%.**"
   ]
  },
  {
   "cell_type": "code",
   "execution_count": 58,
   "metadata": {},
   "outputs": [
    {
     "name": "stdout",
     "output_type": "stream",
     "text": [
      "Accuracy 82.28402593115526 %\n"
     ]
    }
   ],
   "source": [
    "Multi = MultinomialNB()\n",
    "Multi.fit(X_train_sc, Y_train)\n",
    "score_2 = cross_val_score(Multi, X_train_sc, Y_train, scoring='accuracy', cv=10).mean()*100\n",
    "print('Accuracy' + \" \" + str(score_2) + \" \" + \"%\")"
   ]
  },
  {
   "cell_type": "markdown",
   "metadata": {},
   "source": [
    "**The Multinomial Naive Bayes model returns a accuracy of 82.28%.**"
   ]
  },
  {
   "cell_type": "markdown",
   "metadata": {},
   "source": [
    "# CROSS VALIDATION FOR NAIVE BAYES "
   ]
  },
  {
   "cell_type": "markdown",
   "metadata": {},
   "source": [
    "**We will use GridSearchCV method for Cross Validation. stratified K fold sampling is performed.**"
   ]
  },
  {
   "cell_type": "code",
   "execution_count": 91,
   "metadata": {},
   "outputs": [],
   "source": [
    "skf = StratifiedKFold(n_splits=10)\n",
    "params = {}"
   ]
  },
  {
   "cell_type": "code",
   "execution_count": 92,
   "metadata": {},
   "outputs": [],
   "source": [
    "gs = GridSearchCV(Multi, cv=skf, param_grid=params, return_train_score=True)"
   ]
  },
  {
   "cell_type": "code",
   "execution_count": 93,
   "metadata": {},
   "outputs": [
    {
     "data": {
      "text/plain": [
       "GridSearchCV(cv=StratifiedKFold(n_splits=10, random_state=None, shuffle=False),\n",
       "       error_score='raise-deprecating',\n",
       "       estimator=MultinomialNB(alpha=1.0, class_prior=None, fit_prior=True),\n",
       "       fit_params=None, iid='warn', n_jobs=None, param_grid={},\n",
       "       pre_dispatch='2*n_jobs', refit=True, return_train_score=True,\n",
       "       scoring=None, verbose=0)"
      ]
     },
     "execution_count": 93,
     "metadata": {},
     "output_type": "execute_result"
    }
   ],
   "source": [
    "gs.fit(X_train_sc, Y_train)"
   ]
  },
  {
   "cell_type": "code",
   "execution_count": 94,
   "metadata": {},
   "outputs": [
    {
     "data": {
      "text/plain": [
       "{'mean_fit_time': array([0.03035057]),\n",
       " 'std_fit_time': array([0.04426996]),\n",
       " 'mean_score_time': array([0.00130639]),\n",
       " 'std_score_time': array([0.0026128]),\n",
       " 'params': [{}],\n",
       " 'split0_test_score': array([0.80555556]),\n",
       " 'split1_test_score': array([0.81118881]),\n",
       " 'split2_test_score': array([0.80985915]),\n",
       " 'split3_test_score': array([0.84507042]),\n",
       " 'split4_test_score': array([0.82269504]),\n",
       " 'split5_test_score': array([0.83571429]),\n",
       " 'split6_test_score': array([0.85714286]),\n",
       " 'split7_test_score': array([0.80882353]),\n",
       " 'split8_test_score': array([0.80147059]),\n",
       " 'split9_test_score': array([0.83088235]),\n",
       " 'mean_test_score': array([0.82285714]),\n",
       " 'std_test_score': array([0.01777032]),\n",
       " 'rank_test_score': array([1]),\n",
       " 'split0_train_score': array([0.84474522]),\n",
       " 'split1_train_score': array([0.85361973]),\n",
       " 'split2_train_score': array([0.85294118]),\n",
       " 'split3_train_score': array([0.84499205]),\n",
       " 'split4_train_score': array([0.84988086]),\n",
       " 'split5_train_score': array([0.84920635]),\n",
       " 'split6_train_score': array([0.84285714]),\n",
       " 'split7_train_score': array([0.84572785]),\n",
       " 'split8_train_score': array([0.84810127]),\n",
       " 'split9_train_score': array([0.84889241]),\n",
       " 'mean_train_score': array([0.8480964]),\n",
       " 'std_train_score': array([0.0033609])}"
      ]
     },
     "execution_count": 94,
     "metadata": {},
     "output_type": "execute_result"
    }
   ],
   "source": [
    "gs.cv_results_"
   ]
  },
  {
   "cell_type": "markdown",
   "metadata": {},
   "source": [
    "**Use Different parameters and tune the model**"
   ]
  },
  {
   "cell_type": "code",
   "execution_count": 96,
   "metadata": {},
   "outputs": [
    {
     "data": {
      "text/plain": [
       "GridSearchCV(cv=StratifiedKFold(n_splits=10, random_state=None, shuffle=False),\n",
       "       error_score='raise-deprecating',\n",
       "       estimator=MultinomialNB(alpha=1.0, class_prior=None, fit_prior=True),\n",
       "       fit_params=None, iid='warn', n_jobs=None,\n",
       "       param_grid={'alpha': [0.1, 2]}, pre_dispatch='2*n_jobs', refit=True,\n",
       "       return_train_score=True, scoring=None, verbose=0)"
      ]
     },
     "execution_count": 96,
     "metadata": {},
     "output_type": "execute_result"
    }
   ],
   "source": [
    "gs.param_grid = {'alpha': [0.1, 2]}\n",
    "gs.fit(X_train_sc, Y_train)"
   ]
  },
  {
   "cell_type": "code",
   "execution_count": 100,
   "metadata": {},
   "outputs": [
    {
     "name": "stdout",
     "output_type": "stream",
     "text": [
      "Accuracy 86.2912887516353 %\n"
     ]
    }
   ],
   "source": [
    "accur = cross_val_score(gs, X_train_sc, Y_train, scoring='accuracy', cv=10).mean()*100\n",
    "print('Accuracy' + \" \" + str(score_2) + \" \" + \"%\")"
   ]
  },
  {
   "cell_type": "markdown",
   "metadata": {},
   "source": [
    "**The Naive Bayes model returns an accuracy of 86.29% after performing Cross Validation**"
   ]
  },
  {
   "cell_type": "markdown",
   "metadata": {},
   "source": [
    "**The trained NB model is applied to the testing data to predict the 'Label' values**"
   ]
  },
  {
   "cell_type": "code",
   "execution_count": 103,
   "metadata": {},
   "outputs": [
    {
     "data": {
      "text/plain": [
       "array([2, 0, 9, 4, 2, 7, 0, 3, 0, 3, 5, 7, 4, 0, 4, 0, 3, 1, 9, 0, 9, 1,\n",
       "       8, 5, 7, 9, 2, 7, 7, 7, 7, 5, 4, 2, 6, 2, 9, 5, 5, 6, 7, 7, 4, 9,\n",
       "       8, 7, 8, 8, 6, 8, 6, 8, 1, 3, 8, 2, 1, 8, 6, 0, 9, 1, 7, 0, 0, 0,\n",
       "       1, 8, 0, 1, 6, 5, 8, 8, 2, 5, 3, 9, 2, 3, 5, 9, 1, 0, 9, 2, 4, 3,\n",
       "       6, 7, 2, 0, 6, 6, 8, 9, 3, 8, 7, 4, 0, 3, 8, 0, 7, 8, 0, 5, 0, 4,\n",
       "       0, 0, 6, 1, 1, 8, 1, 1, 5, 8, 3, 7, 2, 1, 6, 3, 8, 7, 8, 9, 3, 5,\n",
       "       6, 0, 0, 0, 3, 1, 3, 0, 4, 3, 4, 5, 5, 8, 7, 7, 2, 8, 8, 3, 5, 6,\n",
       "       5, 8, 7, 5, 7, 8, 3, 0, 4, 5, 1, 8, 7, 6, 3, 0, 2, 7, 9, 6, 1, 3,\n",
       "       7, 4, 1, 2, 4, 1, 5, 2, 4, 9, 2, 1, 6, 0, 6, 8, 4, 4, 6, 0, 9, 7,\n",
       "       6, 9, 1, 9, 0, 9, 9, 0, 8, 4, 6, 2, 0, 9, 3, 6, 7, 8, 1, 6, 3, 4,\n",
       "       2, 3, 1, 5, 2, 8, 9, 6, 1, 0, 0, 4, 9, 1, 8, 2, 2, 8, 8, 6, 8, 6,\n",
       "       2, 5, 5, 5, 9, 8, 1, 8, 9, 4, 1, 3, 8, 4, 5, 1, 9, 3, 6, 3, 8, 5,\n",
       "       7, 0, 6, 8, 6, 1, 6, 0, 6, 3, 8, 4, 1, 5, 8, 4, 0, 7, 2, 0, 3, 3,\n",
       "       7, 8, 9, 9, 5, 7, 7, 4, 9, 6, 3, 0, 3, 3, 6, 9, 8, 2, 6, 2, 7, 1,\n",
       "       9, 5, 8, 5, 9, 8, 0, 3, 8, 4, 1, 8, 4, 1, 1, 9, 8, 4, 3, 1, 3, 7,\n",
       "       6, 3, 1, 3, 0, 8, 0, 8, 6, 8, 6, 2, 1, 8, 6, 0, 6, 5, 3, 8, 6, 7,\n",
       "       7, 8, 9, 8, 7, 9, 2, 8, 3, 6, 3, 8, 8, 2, 3, 8, 1, 6, 8, 8, 9, 9,\n",
       "       7, 6, 9, 5, 3, 7, 6, 5, 5, 9, 2, 6, 8, 1, 3, 7, 1, 7, 4, 9, 6, 1,\n",
       "       1, 1, 7, 3, 9, 7, 6, 1, 1, 1, 4, 3, 8, 5, 5, 8, 4, 1, 2, 9, 1, 1,\n",
       "       3, 5, 9, 6, 6, 5, 3, 1, 9, 7, 4, 7, 4, 8, 5, 2, 0, 1, 3, 4, 5, 0,\n",
       "       8, 4, 7, 4, 9, 4, 1, 5, 3, 9, 9, 7, 6, 9, 5, 4, 2, 3, 1, 8, 1, 7,\n",
       "       5, 0, 5, 1, 7, 9, 4, 1, 1, 4, 9, 5, 5, 0, 1, 3, 1, 0, 4, 8, 1, 2,\n",
       "       7, 9, 4, 8, 3, 7, 0, 4, 3, 4, 2, 7, 5, 3, 2, 0, 6, 5, 4, 4, 8, 8,\n",
       "       3, 3, 0, 6, 7, 8, 8, 7, 3, 8, 5, 7, 4, 2, 2, 9, 0, 7, 7, 1, 0, 1,\n",
       "       1, 7, 0, 8, 3, 8, 9, 5, 6, 3, 4, 1, 0, 2, 8, 2, 0, 3, 0, 9, 2, 1,\n",
       "       1, 3, 0, 3, 0, 0, 7, 5, 6, 2, 8, 3, 8, 1, 6, 5, 8, 1, 1, 4, 4, 5,\n",
       "       3, 6, 0, 4, 1, 2, 4, 2, 5, 1, 2, 6, 9, 1, 7, 3, 8, 8, 8, 8, 8, 5,\n",
       "       2, 6, 6, 6, 0, 3, 1, 1, 7, 1, 1, 2, 8, 5, 6, 9, 7, 4, 3, 2, 2, 4,\n",
       "       7, 0, 0, 9, 8, 5, 9, 4, 0, 8, 1, 3, 6, 7, 6, 1, 8, 6, 1, 9, 7, 7,\n",
       "       8, 3, 0, 4, 9, 6, 9, 7, 4, 4, 1, 8, 9, 9, 8, 0, 8, 2, 4, 3, 3, 7,\n",
       "       2, 3, 4, 0, 4, 8, 1, 3, 3, 6, 3, 9, 4, 3, 8, 7, 7, 6, 6, 0, 6, 9,\n",
       "       8, 1, 1, 3, 4, 6, 9, 9, 8, 6, 0, 1, 8, 4, 3, 9, 8, 8, 4, 0, 4, 0,\n",
       "       6, 0, 8, 4, 6, 5, 5, 8, 1, 5, 8, 6, 2, 3, 7, 4, 9, 2, 1, 0, 1, 0,\n",
       "       6, 9, 7, 8, 7, 1, 3, 2, 9, 7, 1, 6, 1, 5, 4, 8, 3, 9, 3, 9, 8, 7,\n",
       "       8, 6, 4, 9, 4, 4, 1, 4, 7, 1, 1, 2, 8, 0, 4, 0, 4, 0, 0, 5, 1, 8,\n",
       "       6, 5, 0, 1, 5, 3, 4, 6, 3, 1, 1, 6, 4, 8, 3, 5, 5, 9, 5, 5, 5, 0,\n",
       "       4, 0, 4, 3, 1, 6, 9, 7, 1, 1, 3, 3, 1, 9, 9, 6, 9, 1, 8, 9, 7, 1,\n",
       "       6, 4, 0, 9, 7, 8, 3, 0, 5, 0, 1, 9, 0, 4, 5, 2, 1, 5, 5, 9, 3, 9,\n",
       "       6, 1, 3, 6, 8, 9, 0, 8, 8, 6, 7, 2, 8, 5, 8, 9, 7, 7, 2, 8, 1, 3,\n",
       "       4, 5, 0, 4, 1, 8, 2, 3, 6, 9, 2, 3, 4, 5, 4, 2, 3, 8, 1, 1, 0, 1,\n",
       "       4, 4, 1, 1, 2, 7, 1, 5, 4, 9, 1, 7, 6, 0, 4, 2, 9, 9, 8, 1, 5, 3,\n",
       "       5, 7, 4, 7, 8, 3, 2, 7, 2, 8, 4, 7, 1, 6, 4, 6, 1, 0, 7, 3, 5, 9,\n",
       "       4, 7, 9, 6, 6, 3, 3, 2, 1, 4, 8, 0, 7, 7, 9, 5, 6, 2, 6, 1, 0, 9,\n",
       "       2, 2, 9, 2, 6, 9, 5, 2, 3, 2, 3, 3, 6, 2, 7, 9, 4, 0, 0, 3, 1, 8,\n",
       "       8, 0, 3, 6, 4, 6, 7, 0, 8, 0, 7, 4, 5, 8, 7, 9, 7, 7, 0, 5, 3, 2,\n",
       "       1, 9, 0, 6, 8, 3, 6, 2, 2, 1], dtype=int64)"
      ]
     },
     "execution_count": 103,
     "metadata": {},
     "output_type": "execute_result"
    }
   ],
   "source": [
    "gs.predict(X_test_sc)"
   ]
  },
  {
   "cell_type": "markdown",
   "metadata": {},
   "source": [
    "# Random Forest Classifier"
   ]
  },
  {
   "cell_type": "code",
   "execution_count": 63,
   "metadata": {},
   "outputs": [
    {
     "name": "stdout",
     "output_type": "stream",
     "text": [
      "Accuracy 82.48990959506746 %\n"
     ]
    }
   ],
   "source": [
    "# Implement the Random Forest Classification model\n",
    "rf_model= en.RandomForestClassifier()\n",
    "rf_model.fit(X_train_sc, np.array(Y_train).ravel())\n",
    "score_2 = cross_val_score(rf_model, X_train_sc, Y_train, scoring='accuracy', cv=10).mean()*100\n",
    "print('Accuracy' + \" \" + str(score_2) + \" \" + \"%\")"
   ]
  },
  {
   "cell_type": "markdown",
   "metadata": {},
   "source": [
    "**The Random Forest model returns a accuracy of 82.48%.**"
   ]
  },
  {
   "cell_type": "markdown",
   "metadata": {},
   "source": [
    "# CROSS VALIDATION FOR RANDOM FOREST"
   ]
  },
  {
   "cell_type": "markdown",
   "metadata": {},
   "source": [
    "**Tune the model by using different parameters**"
   ]
  },
  {
   "cell_type": "code",
   "execution_count": 64,
   "metadata": {},
   "outputs": [
    {
     "data": {
      "text/plain": [
       "({'mean_fit_time': array([0.30080528, 0.57816644, 1.39382973, 2.7926271 , 4.14566517,\n",
       "         5.2540328 ]),\n",
       "  'std_fit_time': array([0.0213065 , 0.0136342 , 0.06788602, 0.06083419, 0.0397004 ,\n",
       "         0.28368549]),\n",
       "  'mean_score_time': array([0.01008339, 0.01461706, 0.03034325, 0.0611403 , 0.08220997,\n",
       "         0.11931624]),\n",
       "  'std_score_time': array([1.66786705e-05, 3.97352000e-03, 1.45290517e-03, 6.65569217e-03,\n",
       "         6.85162059e-03, 2.13241583e-02]),\n",
       "  'param_n_estimators': masked_array(data=[50, 100, 250, 500, 750, 1000],\n",
       "               mask=[False, False, False, False, False, False],\n",
       "         fill_value='?',\n",
       "              dtype=object),\n",
       "  'params': [{'n_estimators': 50},\n",
       "   {'n_estimators': 100},\n",
       "   {'n_estimators': 250},\n",
       "   {'n_estimators': 500},\n",
       "   {'n_estimators': 750},\n",
       "   {'n_estimators': 1000}],\n",
       "  'split0_test_score': array([0.90140845, 0.91549296, 0.91901408, 0.92253521, 0.92605634,\n",
       "         0.92957746]),\n",
       "  'split1_test_score': array([0.90106007, 0.91872792, 0.92226148, 0.92226148, 0.92226148,\n",
       "         0.91872792]),\n",
       "  'split2_test_score': array([0.8705036 , 0.87410072, 0.88129496, 0.88489209, 0.88489209,\n",
       "         0.88489209]),\n",
       "  'split3_test_score': array([0.89208633, 0.9028777 , 0.90647482, 0.90647482, 0.90647482,\n",
       "         0.90647482]),\n",
       "  'split4_test_score': array([0.89169675, 0.90974729, 0.90252708, 0.90252708, 0.90252708,\n",
       "         0.90252708]),\n",
       "  'mean_test_score': array([0.89135104, 0.90418932, 0.90631449, 0.90773814, 0.90844236,\n",
       "         0.90843987]),\n",
       "  'std_test_score': array([0.01123114, 0.01598173, 0.01453226, 0.0140041 , 0.01479661,\n",
       "         0.0151391 ]),\n",
       "  'rank_test_score': array([6, 5, 4, 3, 1, 2]),\n",
       "  'split0_train_score': array([1., 1., 1., 1., 1., 1.]),\n",
       "  'split1_train_score': array([1., 1., 1., 1., 1., 1.]),\n",
       "  'split2_train_score': array([1., 1., 1., 1., 1., 1.]),\n",
       "  'split3_train_score': array([1., 1., 1., 1., 1., 1.]),\n",
       "  'split4_train_score': array([1., 1., 1., 1., 1., 1.]),\n",
       "  'mean_train_score': array([1., 1., 1., 1., 1., 1.]),\n",
       "  'std_train_score': array([0., 0., 0., 0., 0., 0.])},\n",
       " {'n_estimators': 750},\n",
       " 0.9084423608828407)"
      ]
     },
     "execution_count": 64,
     "metadata": {},
     "output_type": "execute_result"
    }
   ],
   "source": [
    "p_test = {'n_estimators':[50, 100,250,500,750,1000]}\n",
    "\n",
    "#max_depth=4, min_samples_split=2, min_samples_leaf=1, max_features='sqrt',\n",
    "\n",
    "tuning = GridSearchCV(estimator = en.RandomForestClassifier(random_state=10), \n",
    "            param_grid = p_test, scoring='accuracy', n_jobs=4, iid=False, cv=5)\n",
    "tuning.fit(X_train_sc,np.array(Y_train).ravel())\n",
    "tuning.cv_results_, tuning.best_params_, tuning.best_score_"
   ]
  },
  {
   "cell_type": "code",
   "execution_count": 65,
   "metadata": {},
   "outputs": [
    {
     "data": {
      "text/plain": [
       "({'mean_fit_time': array([1.2442533 , 2.42330813, 4.11930809, 4.26384416, 4.92199259,\n",
       "         4.73351555, 4.41273994, 4.20165625, 4.78332295, 5.38702331,\n",
       "         4.94840908, 4.62252288]),\n",
       "  'std_fit_time': array([0.06101184, 0.04502854, 0.08603056, 0.10405429, 0.22891686,\n",
       "         0.14684262, 0.09143492, 0.07693882, 0.45191701, 0.19284647,\n",
       "         0.07965735, 0.24706174]),\n",
       "  'mean_score_time': array([0.07211742, 0.08269911, 0.09020767, 0.10448294, 0.10643601,\n",
       "         0.10641727, 0.09042192, 0.09250045, 0.1217021 , 0.12430954,\n",
       "         0.10649962, 0.09192715]),\n",
       "  'std_score_time': array([0.01019603, 0.00918421, 0.00563576, 0.01764903, 0.01655894,\n",
       "         0.02274679, 0.01102484, 0.00819799, 0.03583763, 0.00648257,\n",
       "         0.0088586 , 0.01331171]),\n",
       "  'param_max_depth': masked_array(data=[2, 5, 10, 20, 50, 75, 100, 200, 300, 500, 700, 750],\n",
       "               mask=[False, False, False, False, False, False, False, False,\n",
       "                     False, False, False, False],\n",
       "         fill_value='?',\n",
       "              dtype=object),\n",
       "  'params': [{'max_depth': 2},\n",
       "   {'max_depth': 5},\n",
       "   {'max_depth': 10},\n",
       "   {'max_depth': 20},\n",
       "   {'max_depth': 50},\n",
       "   {'max_depth': 75},\n",
       "   {'max_depth': 100},\n",
       "   {'max_depth': 200},\n",
       "   {'max_depth': 300},\n",
       "   {'max_depth': 500},\n",
       "   {'max_depth': 700},\n",
       "   {'max_depth': 750}],\n",
       "  'split0_test_score': array([0.6584507 , 0.84859155, 0.91901408, 0.92605634, 0.92605634,\n",
       "         0.92605634, 0.92605634, 0.92605634, 0.92605634, 0.92605634,\n",
       "         0.92605634, 0.92605634]),\n",
       "  'split1_test_score': array([0.66077739, 0.85865724, 0.91519435, 0.92226148, 0.92226148,\n",
       "         0.92226148, 0.92226148, 0.92226148, 0.92226148, 0.92226148,\n",
       "         0.92226148, 0.92226148]),\n",
       "  'split2_test_score': array([0.64748201, 0.82733813, 0.88848921, 0.88489209, 0.88489209,\n",
       "         0.88489209, 0.88489209, 0.88489209, 0.88489209, 0.88489209,\n",
       "         0.88489209, 0.88489209]),\n",
       "  'split3_test_score': array([0.65107914, 0.88848921, 0.90647482, 0.90647482, 0.90647482,\n",
       "         0.90647482, 0.90647482, 0.90647482, 0.90647482, 0.90647482,\n",
       "         0.90647482, 0.90647482]),\n",
       "  'split4_test_score': array([0.66425993, 0.8700361 , 0.90974729, 0.90252708, 0.90252708,\n",
       "         0.90252708, 0.90252708, 0.90252708, 0.90252708, 0.90252708,\n",
       "         0.90252708, 0.90252708]),\n",
       "  'mean_test_score': array([0.65640983, 0.85862245, 0.90778395, 0.90844236, 0.90844236,\n",
       "         0.90844236, 0.90844236, 0.90844236, 0.90844236, 0.90844236,\n",
       "         0.90844236, 0.90844236]),\n",
       "  'std_test_score': array([0.00621268, 0.02050182, 0.01057247, 0.01479661, 0.01479661,\n",
       "         0.01479661, 0.01479661, 0.01479661, 0.01479661, 0.01479661,\n",
       "         0.01479661, 0.01479661]),\n",
       "  'rank_test_score': array([12, 11, 10,  1,  1,  1,  1,  1,  1,  1,  1,  1]),\n",
       "  'split0_train_score': array([0.6765233 , 0.94354839, 1.        , 1.        , 1.        ,\n",
       "         1.        , 1.        , 1.        , 1.        , 1.        ,\n",
       "         1.        , 1.        ]),\n",
       "  'split1_train_score': array([0.69471799, 0.94091316, 1.        , 1.        , 1.        ,\n",
       "         1.        , 1.        , 1.        , 1.        , 1.        ,\n",
       "         1.        , 1.        ]),\n",
       "  'split2_train_score': array([0.70053476, 0.942959  , 1.        , 1.        , 1.        ,\n",
       "         1.        , 1.        , 1.        , 1.        , 1.        ,\n",
       "         1.        , 1.        ]),\n",
       "  'split3_train_score': array([0.67201426, 0.94206774, 1.        , 1.        , 1.        ,\n",
       "         1.        , 1.        , 1.        , 1.        , 1.        ,\n",
       "         1.        , 1.        ]),\n",
       "  'split4_train_score': array([0.68032057, 0.94211932, 1.        , 1.        , 1.        ,\n",
       "         1.        , 1.        , 1.        , 1.        , 1.        ,\n",
       "         1.        , 1.        ]),\n",
       "  'mean_train_score': array([0.68482218, 0.94232152, 1.        , 1.        , 1.        ,\n",
       "         1.        , 1.        , 1.        , 1.        , 1.        ,\n",
       "         1.        , 1.        ]),\n",
       "  'std_train_score': array([0.0109361 , 0.00089447, 0.        , 0.        , 0.        ,\n",
       "         0.        , 0.        , 0.        , 0.        , 0.        ,\n",
       "         0.        , 0.        ])},\n",
       " {'max_depth': 20},\n",
       " 0.9084423608828407)"
      ]
     },
     "execution_count": 65,
     "metadata": {},
     "output_type": "execute_result"
    }
   ],
   "source": [
    "p_test = {'max_depth':[2,5,10,20,50,75,100,200,300,500,700,750]}\n",
    "\n",
    "# min_samples_split=2, min_samples_leaf=1, max_features='sqrt',\n",
    "\n",
    "tuning = GridSearchCV(estimator = en.RandomForestClassifier(n_estimators = 750, random_state=10), \n",
    "            param_grid = p_test, scoring='accuracy', n_jobs=4, iid=False, cv=5)\n",
    "tuning.fit(X_train_sc,np.array(Y_train).ravel())\n",
    "tuning.cv_results_, tuning.best_params_, tuning.best_score_"
   ]
  },
  {
   "cell_type": "code",
   "execution_count": 66,
   "metadata": {},
   "outputs": [
    {
     "data": {
      "text/plain": [
       "({'mean_fit_time': array([2.79946923, 2.11025672, 1.91355643, 1.63837347, 1.56511803,\n",
       "         1.21679649, 1.21809511, 0.74669495]),\n",
       "  'std_fit_time': array([0.10918472, 0.0271369 , 0.04544171, 0.09832892, 0.0668324 ,\n",
       "         0.07123696, 0.05434018, 0.05915252]),\n",
       "  'mean_score_time': array([0.07698154, 0.06933031, 0.08395238, 0.09454989, 0.08142276,\n",
       "         0.08289623, 0.09101458, 0.0751965 ]),\n",
       "  'std_score_time': array([0.01243288, 0.00443438, 0.01392551, 0.03393486, 0.02089055,\n",
       "         0.0092914 , 0.00711985, 0.01825597]),\n",
       "  'param_min_samples_split': masked_array(data=[50, 75, 100, 200, 300, 500, 700, 750],\n",
       "               mask=[False, False, False, False, False, False, False, False],\n",
       "         fill_value='?',\n",
       "              dtype=object),\n",
       "  'params': [{'min_samples_split': 50},\n",
       "   {'min_samples_split': 75},\n",
       "   {'min_samples_split': 100},\n",
       "   {'min_samples_split': 200},\n",
       "   {'min_samples_split': 300},\n",
       "   {'min_samples_split': 500},\n",
       "   {'min_samples_split': 700},\n",
       "   {'min_samples_split': 750}],\n",
       "  'split0_test_score': array([0.84507042, 0.82394366, 0.81338028, 0.72887324, 0.65140845,\n",
       "         0.51056338, 0.4471831 , 0.11971831]),\n",
       "  'split1_test_score': array([0.86572438, 0.83392226, 0.795053  , 0.72438163, 0.65371025,\n",
       "         0.5229682 , 0.47349823, 0.12014134]),\n",
       "  'split2_test_score': array([0.84892086, 0.82014388, 0.78417266, 0.70143885, 0.64028777,\n",
       "         0.54676259, 0.51079137, 0.11870504]),\n",
       "  'split3_test_score': array([0.87410072, 0.84532374, 0.81294964, 0.72302158, 0.64028777,\n",
       "         0.52877698, 0.46402878, 0.11870504]),\n",
       "  'split4_test_score': array([0.84837545, 0.8267148 , 0.77978339, 0.73646209, 0.64981949,\n",
       "         0.55956679, 0.53790614, 0.11913357]),\n",
       "  'mean_test_score': array([0.85643837, 0.83000967, 0.7970678 , 0.72283548, 0.64710275,\n",
       "         0.53372759, 0.48668152, 0.11928066]),\n",
       "  'std_test_score': array([0.01139247, 0.00888612, 0.01405293, 0.0116823 , 0.00570029,\n",
       "         0.01740361, 0.03302217, 0.00056862]),\n",
       "  'rank_test_score': array([1, 2, 3, 4, 5, 6, 7, 8]),\n",
       "  'split0_train_score': array([0.94354839, 0.90143369, 0.84587814, 0.7562724 , 0.66756272,\n",
       "         0.51433692, 0.46505376, 0.11917563]),\n",
       "  'split1_train_score': array([0.93822739, 0.88988362, 0.84601611, 0.75290958, 0.69829902,\n",
       "         0.55595345, 0.49686661, 0.11906893]),\n",
       "  'split2_train_score': array([0.93850267, 0.89572193, 0.8573975 , 0.76292335, 0.70677362,\n",
       "         0.55793226, 0.52049911, 0.11942959]),\n",
       "  'split3_train_score': array([0.93493761, 0.885918  , 0.85115865, 0.75222816, 0.68181818,\n",
       "         0.54991087, 0.5       , 0.11942959]),\n",
       "  'split4_train_score': array([0.93855744, 0.88423865, 0.84416741, 0.75155833, 0.68299199,\n",
       "         0.5681211 , 0.53072128, 0.11932324]),\n",
       "  'mean_train_score': array([0.9387547 , 0.89143918, 0.84892356, 0.75517836, 0.68748911,\n",
       "         0.54925092, 0.50262815, 0.1192854 ]),\n",
       "  'std_train_score': array([0.00275427, 0.00637155, 0.0048405 , 0.00419851, 0.01369811,\n",
       "         0.01841628, 0.02262977, 0.00014277])},\n",
       " {'min_samples_split': 50},\n",
       " 0.8564383676316007)"
      ]
     },
     "execution_count": 66,
     "metadata": {},
     "output_type": "execute_result"
    }
   ],
   "source": [
    "p_test = {'min_samples_split':[50, 75, 100, 200, 300, 500, 700, 750]}\n",
    "\n",
    "# min_samples_leaf=1, max_features='sqrt',\n",
    "\n",
    "tuning = GridSearchCV(estimator = en.RandomForestClassifier(n_estimators = 750, max_depth = 20,random_state=10), \n",
    "            param_grid = p_test, scoring='accuracy', n_jobs=4, iid=False, cv=5)\n",
    "tuning.fit(X_train_sc,np.array(Y_train).ravel())\n",
    "tuning.cv_results_, tuning.best_params_, tuning.best_score_"
   ]
  },
  {
   "cell_type": "code",
   "execution_count": 67,
   "metadata": {},
   "outputs": [
    {
     "data": {
      "text/plain": [
       "({'mean_fit_time': array([1.94126692, 1.69753976, 1.32237673, 0.91351242, 0.78501835,\n",
       "         0.61528053, 0.64219127, 0.54406285]),\n",
       "  'std_fit_time': array([0.14239524, 0.15748378, 0.02850905, 0.03065281, 0.04457063,\n",
       "         0.04622466, 0.03330066, 0.02536901]),\n",
       "  'mean_score_time': array([0.08303881, 0.08181124, 0.06735768, 0.06123643, 0.05729289,\n",
       "         0.07448473, 0.05710511, 0.05826764]),\n",
       "  'std_score_time': array([0.01936133, 0.01371257, 0.01307812, 0.00726322, 0.00743094,\n",
       "         0.00959223, 0.00488957, 0.00432725]),\n",
       "  'param_min_samples_leaf': masked_array(data=[50, 75, 100, 200, 300, 500, 700, 750],\n",
       "               mask=[False, False, False, False, False, False, False, False],\n",
       "         fill_value='?',\n",
       "              dtype=object),\n",
       "  'params': [{'min_samples_leaf': 50},\n",
       "   {'min_samples_leaf': 75},\n",
       "   {'min_samples_leaf': 100},\n",
       "   {'min_samples_leaf': 200},\n",
       "   {'min_samples_leaf': 300},\n",
       "   {'min_samples_leaf': 500},\n",
       "   {'min_samples_leaf': 700},\n",
       "   {'min_samples_leaf': 750}],\n",
       "  'split0_test_score': array([0.79225352, 0.74295775, 0.71478873, 0.58450704, 0.49295775,\n",
       "         0.11971831, 0.11971831, 0.11971831]),\n",
       "  'split1_test_score': array([0.77738516, 0.75265018, 0.71731449, 0.5795053 , 0.50530035,\n",
       "         0.12014134, 0.12014134, 0.12014134]),\n",
       "  'split2_test_score': array([0.78417266, 0.73021583, 0.70503597, 0.61870504, 0.51079137,\n",
       "         0.11870504, 0.11870504, 0.11870504]),\n",
       "  'split3_test_score': array([0.78776978, 0.74100719, 0.71223022, 0.58992806, 0.48561151,\n",
       "         0.11870504, 0.11870504, 0.11870504]),\n",
       "  'split4_test_score': array([0.77617329, 0.75451264, 0.71480144, 0.59927798, 0.53790614,\n",
       "         0.11913357, 0.11913357, 0.11913357]),\n",
       "  'mean_test_score': array([0.78355088, 0.74426872, 0.71283417, 0.59438468, 0.50651342,\n",
       "         0.11928066, 0.11928066, 0.11928066]),\n",
       "  'std_test_score': array([0.00610519, 0.00877527, 0.00421759, 0.01381484, 0.01803287,\n",
       "         0.00056862, 0.00056862, 0.00056862]),\n",
       "  'rank_test_score': array([1, 2, 3, 4, 5, 6, 6, 6]),\n",
       "  'split0_train_score': array([0.82526882, 0.77508961, 0.74014337, 0.57168459, 0.50985663,\n",
       "         0.11917563, 0.11917563, 0.11917563]),\n",
       "  'split1_train_score': array([0.82542525, 0.77618621, 0.74395703, 0.61951656, 0.51924799,\n",
       "         0.11906893, 0.11906893, 0.11906893]),\n",
       "  'split2_train_score': array([0.82620321, 0.77629234, 0.74064171, 0.6399287 , 0.51960784,\n",
       "         0.11942959, 0.11942959, 0.11942959]),\n",
       "  'split3_train_score': array([0.82620321, 0.7745098 , 0.73618538, 0.62477718, 0.52495544,\n",
       "         0.11942959, 0.11942959, 0.11942959]),\n",
       "  'split4_train_score': array([0.82101514, 0.77292965, 0.73731077, 0.63579697, 0.54853072,\n",
       "         0.11932324, 0.11932324, 0.11932324]),\n",
       "  'mean_train_score': array([0.82482312, 0.77500152, 0.73964765, 0.6183408 , 0.52443972,\n",
       "         0.1192854 , 0.1192854 , 0.1192854 ]),\n",
       "  'std_train_score': array([0.00194274, 0.00123385, 0.00272958, 0.02445554, 0.0129893 ,\n",
       "         0.00014277, 0.00014277, 0.00014277])},\n",
       " {'min_samples_leaf': 50},\n",
       " 0.7835508822758166)"
      ]
     },
     "execution_count": 67,
     "metadata": {},
     "output_type": "execute_result"
    }
   ],
   "source": [
    "p_test = {'min_samples_leaf':[50, 75, 100, 200, 300, 500, 700, 750]}\n",
    "\n",
    "# max_features='sqrt'\n",
    "\n",
    "tuning = GridSearchCV(estimator = en.RandomForestClassifier(n_estimators = 750, max_depth = 20,random_state=10), \n",
    "            param_grid = p_test, scoring='accuracy', n_jobs=4, iid=False, cv=5)\n",
    "tuning.fit(X_train_sc,np.array(Y_train).ravel())\n",
    "tuning.cv_results_, tuning.best_params_, tuning.best_score_"
   ]
  },
  {
   "cell_type": "code",
   "execution_count": 68,
   "metadata": {},
   "outputs": [
    {
     "data": {
      "text/plain": [
       "({'mean_fit_time': array([ 6.54864006, 10.95807514, 14.63557606, 23.77513628, 32.17146807,\n",
       "         52.85733752, 72.60392814, 75.51265397,  4.71353831]),\n",
       "  'std_fit_time': array([0.41475423, 0.10110411, 0.49441977, 1.06032696, 0.18381989,\n",
       "         2.02704614, 1.73415232, 4.27585   , 0.36723762]),\n",
       "  'mean_score_time': array([0.09786143, 0.10923738, 0.11135249, 0.10261621, 0.09289508,\n",
       "         0.12117167, 0.12855339, 0.10560637, 0.10853539]),\n",
       "  'std_score_time': array([0.02957819, 0.00773681, 0.02242493, 0.01186172, 0.00459862,\n",
       "         0.03073683, 0.02206014, 0.02958768, 0.01820696]),\n",
       "  'param_max_features': masked_array(data=[50, 75, 100, 200, 300, 500, 700, 750, 'sqrt'],\n",
       "               mask=[False, False, False, False, False, False, False, False,\n",
       "                     False],\n",
       "         fill_value='?',\n",
       "              dtype=object),\n",
       "  'params': [{'max_features': 50},\n",
       "   {'max_features': 75},\n",
       "   {'max_features': 100},\n",
       "   {'max_features': 200},\n",
       "   {'max_features': 300},\n",
       "   {'max_features': 500},\n",
       "   {'max_features': 700},\n",
       "   {'max_features': 750},\n",
       "   {'max_features': 'sqrt'}],\n",
       "  'split0_test_score': array([0.92957746, 0.91197183, 0.9084507 , 0.8943662 , 0.8943662 ,\n",
       "         0.88028169, 0.88028169, 0.88732394, 0.92605634]),\n",
       "  'split1_test_score': array([0.92226148, 0.90459364, 0.91519435, 0.90106007, 0.87985866,\n",
       "         0.87279152, 0.84452297, 0.8409894 , 0.92226148]),\n",
       "  'split2_test_score': array([0.87769784, 0.88489209, 0.8705036 , 0.85611511, 0.86330935,\n",
       "         0.84532374, 0.82733813, 0.83453237, 0.88489209]),\n",
       "  'split3_test_score': array([0.90647482, 0.91007194, 0.91366906, 0.90647482, 0.88848921,\n",
       "         0.88848921, 0.88489209, 0.89568345, 0.90647482]),\n",
       "  'split4_test_score': array([0.90613718, 0.89530686, 0.89891697, 0.89530686, 0.9133574 ,\n",
       "         0.90974729, 0.90613718, 0.90613718, 0.90252708]),\n",
       "  'mean_test_score': array([0.90842976, 0.90136727, 0.90134694, 0.89066461, 0.88787616,\n",
       "         0.87932669, 0.86863441, 0.87293327, 0.90844236]),\n",
       "  'std_test_score': array([0.01784416, 0.01006775, 0.01643938, 0.01781544, 0.01648999,\n",
       "         0.02101992, 0.02861179, 0.02940137, 0.01479661]),\n",
       "  'rank_test_score': array([2, 3, 4, 5, 6, 7, 9, 8, 1]),\n",
       "  'split0_train_score': array([1., 1., 1., 1., 1., 1., 1., 1., 1.]),\n",
       "  'split1_train_score': array([1., 1., 1., 1., 1., 1., 1., 1., 1.]),\n",
       "  'split2_train_score': array([1., 1., 1., 1., 1., 1., 1., 1., 1.]),\n",
       "  'split3_train_score': array([1., 1., 1., 1., 1., 1., 1., 1., 1.]),\n",
       "  'split4_train_score': array([1., 1., 1., 1., 1., 1., 1., 1., 1.]),\n",
       "  'mean_train_score': array([1., 1., 1., 1., 1., 1., 1., 1., 1.]),\n",
       "  'std_train_score': array([0., 0., 0., 0., 0., 0., 0., 0., 0.])},\n",
       " {'max_features': 'sqrt'},\n",
       " 0.9084423608828407)"
      ]
     },
     "execution_count": 68,
     "metadata": {},
     "output_type": "execute_result"
    }
   ],
   "source": [
    "p_test = {'max_features':[50, 75, 100, 200, 300, 500, 700, 750, 'sqrt']}\n",
    "\n",
    "tuning = GridSearchCV(estimator = en.RandomForestClassifier(n_estimators = 750, max_depth = 20,random_state=10), \n",
    "            param_grid = p_test, scoring='accuracy', n_jobs=4, iid=False, cv=5)\n",
    "tuning.fit(X_train_sc,np.array(Y_train).ravel())\n",
    "tuning.cv_results_, tuning.best_params_, tuning.best_score_"
   ]
  },
  {
   "cell_type": "markdown",
   "metadata": {},
   "source": [
    "**Final training model for Random Forest Claasifier is built using best paramters**"
   ]
  },
  {
   "cell_type": "code",
   "execution_count": 69,
   "metadata": {},
   "outputs": [
    {
     "name": "stdout",
     "output_type": "stream",
     "text": [
      "Accuracy 91.76753882344278 %\n"
     ]
    }
   ],
   "source": [
    "final_rf_model = en.RandomForestClassifier(n_estimators=750, max_depth=20, max_features='sqrt')\n",
    "final_rf_model.fit(X_train_sc, Y_train)\n",
    "score = cross_val_score(final_rf_model, X_train_sc, Y_train, scoring='accuracy', cv=10).mean()*100\n",
    "print('Accuracy' + \" \" + str(score) + \" \" + \"%\")"
   ]
  },
  {
   "cell_type": "markdown",
   "metadata": {},
   "source": [
    "**The Random Forest model returns an accuracy of 91.76% after performing Cross Validation**"
   ]
  },
  {
   "cell_type": "markdown",
   "metadata": {},
   "source": [
    "**The trained Random Forest model is applied to the testing data to predict the 'Label' values**"
   ]
  },
  {
   "cell_type": "code",
   "execution_count": 105,
   "metadata": {},
   "outputs": [
    {
     "data": {
      "text/plain": [
       "array([2, 0, 9, 4, 3, 7, 0, 3, 0, 3, 5, 7, 4, 0, 4, 3, 3, 1, 9, 0, 9, 1,\n",
       "       1, 5, 7, 4, 2, 7, 7, 7, 7, 5, 4, 2, 6, 2, 5, 5, 1, 6, 7, 7, 4, 9,\n",
       "       8, 7, 8, 8, 6, 7, 6, 8, 8, 3, 8, 2, 1, 2, 4, 0, 4, 1, 7, 0, 0, 0,\n",
       "       1, 9, 0, 1, 6, 5, 8, 8, 2, 8, 3, 9, 2, 3, 5, 9, 1, 0, 9, 2, 4, 3,\n",
       "       6, 7, 2, 0, 6, 6, 1, 4, 3, 8, 7, 4, 0, 3, 2, 0, 7, 3, 0, 5, 0, 3,\n",
       "       0, 0, 4, 7, 1, 2, 1, 1, 5, 3, 3, 7, 2, 8, 6, 3, 8, 7, 8, 4, 3, 5,\n",
       "       6, 0, 0, 0, 3, 1, 3, 0, 4, 3, 4, 5, 5, 8, 7, 7, 2, 8, 4, 3, 5, 6,\n",
       "       5, 1, 7, 5, 7, 8, 3, 0, 4, 5, 1, 8, 7, 6, 3, 0, 2, 7, 9, 6, 1, 3,\n",
       "       7, 4, 1, 2, 4, 8, 8, 2, 4, 9, 2, 1, 6, 0, 6, 1, 4, 9, 6, 0, 9, 7,\n",
       "       6, 9, 1, 9, 0, 9, 9, 0, 8, 4, 6, 2, 0, 9, 3, 6, 7, 2, 1, 6, 3, 4,\n",
       "       2, 3, 1, 5, 2, 0, 9, 6, 1, 0, 0, 4, 9, 1, 7, 3, 2, 3, 8, 6, 8, 6,\n",
       "       2, 8, 5, 5, 9, 8, 3, 6, 9, 7, 1, 3, 8, 4, 5, 1, 4, 5, 6, 3, 3, 5,\n",
       "       7, 0, 6, 8, 6, 1, 6, 0, 6, 3, 8, 6, 1, 5, 8, 4, 0, 9, 2, 0, 5, 3,\n",
       "       7, 1, 9, 9, 5, 7, 7, 9, 9, 6, 3, 0, 3, 3, 6, 9, 8, 2, 6, 2, 7, 1,\n",
       "       4, 5, 8, 5, 9, 0, 0, 3, 8, 4, 1, 8, 4, 1, 1, 9, 8, 4, 5, 1, 3, 7,\n",
       "       6, 3, 1, 3, 0, 8, 0, 0, 6, 0, 6, 2, 1, 8, 6, 0, 6, 5, 2, 2, 6, 7,\n",
       "       7, 2, 5, 8, 8, 9, 2, 7, 8, 6, 3, 8, 4, 2, 3, 8, 1, 6, 4, 8, 7, 9,\n",
       "       7, 6, 9, 5, 3, 7, 6, 5, 5, 4, 2, 6, 2, 1, 3, 7, 1, 7, 9, 9, 6, 1,\n",
       "       1, 1, 7, 3, 9, 7, 6, 1, 1, 1, 9, 3, 5, 5, 5, 0, 4, 1, 2, 3, 1, 1,\n",
       "       3, 5, 9, 6, 6, 5, 3, 1, 4, 7, 4, 7, 4, 8, 5, 2, 6, 1, 3, 9, 5, 0,\n",
       "       8, 4, 7, 4, 3, 4, 1, 5, 3, 9, 9, 7, 6, 9, 5, 9, 2, 3, 1, 6, 6, 7,\n",
       "       5, 0, 5, 1, 7, 4, 4, 1, 1, 4, 9, 5, 6, 0, 1, 3, 1, 0, 4, 8, 1, 2,\n",
       "       7, 9, 4, 8, 3, 7, 0, 4, 2, 4, 6, 7, 6, 3, 2, 0, 6, 5, 9, 4, 1, 8,\n",
       "       3, 3, 0, 6, 7, 6, 8, 7, 5, 3, 1, 7, 6, 3, 6, 9, 0, 7, 7, 1, 0, 1,\n",
       "       1, 7, 0, 5, 3, 8, 3, 5, 6, 5, 4, 3, 0, 2, 8, 2, 0, 3, 0, 9, 2, 1,\n",
       "       1, 3, 0, 5, 0, 0, 7, 5, 6, 2, 0, 3, 8, 1, 6, 5, 8, 1, 1, 4, 7, 5,\n",
       "       3, 6, 0, 4, 8, 2, 4, 2, 5, 1, 2, 6, 9, 1, 7, 3, 8, 8, 8, 8, 8, 5,\n",
       "       3, 6, 6, 6, 0, 3, 1, 1, 7, 1, 6, 2, 8, 5, 6, 4, 7, 4, 3, 3, 2, 4,\n",
       "       7, 0, 0, 9, 8, 5, 9, 4, 0, 8, 1, 3, 6, 7, 6, 1, 8, 6, 1, 4, 7, 7,\n",
       "       8, 3, 0, 9, 9, 6, 7, 7, 4, 4, 1, 8, 4, 9, 0, 0, 8, 2, 4, 3, 3, 7,\n",
       "       2, 3, 4, 0, 4, 8, 1, 3, 3, 6, 3, 9, 4, 3, 8, 7, 7, 6, 6, 0, 6, 9,\n",
       "       8, 1, 1, 3, 4, 6, 9, 9, 2, 6, 0, 1, 8, 4, 3, 9, 8, 8, 4, 0, 5, 0,\n",
       "       6, 0, 4, 4, 6, 0, 5, 8, 1, 5, 3, 6, 2, 3, 7, 8, 9, 3, 1, 0, 1, 0,\n",
       "       6, 4, 7, 5, 7, 1, 3, 2, 7, 7, 1, 5, 1, 5, 4, 8, 3, 4, 3, 9, 0, 7,\n",
       "       8, 6, 4, 9, 4, 4, 1, 4, 7, 1, 1, 8, 2, 0, 4, 0, 4, 0, 0, 8, 1, 8,\n",
       "       6, 5, 0, 1, 5, 3, 4, 6, 3, 1, 1, 6, 9, 8, 3, 5, 5, 9, 3, 8, 5, 0,\n",
       "       4, 0, 4, 3, 1, 6, 9, 7, 1, 1, 3, 3, 1, 4, 9, 6, 9, 1, 5, 4, 2, 3,\n",
       "       4, 4, 0, 9, 7, 8, 3, 0, 5, 0, 1, 9, 0, 4, 5, 2, 8, 5, 5, 9, 3, 9,\n",
       "       6, 1, 5, 3, 1, 9, 0, 8, 6, 6, 7, 2, 8, 5, 8, 9, 7, 7, 2, 8, 1, 3,\n",
       "       4, 5, 0, 4, 1, 4, 2, 3, 6, 9, 2, 3, 4, 5, 4, 2, 5, 3, 1, 1, 0, 1,\n",
       "       4, 9, 1, 1, 2, 7, 1, 5, 4, 9, 1, 7, 6, 0, 4, 2, 9, 9, 1, 1, 5, 3,\n",
       "       5, 7, 9, 7, 8, 3, 2, 7, 2, 0, 4, 7, 1, 6, 4, 6, 1, 0, 7, 3, 5, 9,\n",
       "       4, 7, 9, 6, 6, 3, 3, 2, 1, 4, 5, 3, 7, 7, 9, 5, 6, 2, 6, 1, 0, 9,\n",
       "       3, 2, 9, 2, 6, 7, 5, 2, 3, 2, 8, 3, 0, 2, 7, 9, 4, 0, 0, 5, 1, 8,\n",
       "       8, 5, 3, 2, 9, 6, 7, 0, 8, 0, 7, 4, 5, 8, 7, 9, 7, 7, 0, 5, 3, 2,\n",
       "       1, 9, 0, 6, 8, 3, 6, 2, 2, 1], dtype=int64)"
      ]
     },
     "execution_count": 105,
     "metadata": {},
     "output_type": "execute_result"
    }
   ],
   "source": [
    "final_rf_model.predict(X_test_sc)"
   ]
  },
  {
   "cell_type": "markdown",
   "metadata": {},
   "source": [
    "# Support Vector Machine"
   ]
  },
  {
   "cell_type": "markdown",
   "metadata": {},
   "source": [
    "**Build a training model using Support Vector Classifier and Radial Basis Function with default settings**"
   ]
  },
  {
   "cell_type": "code",
   "execution_count": 70,
   "metadata": {},
   "outputs": [
    {
     "name": "stdout",
     "output_type": "stream",
     "text": [
      "Accuracy 86.2912887516353 %\n"
     ]
    }
   ],
   "source": [
    "model= svm.SVC(kernel=\"rbf\")\n",
    "model.fit(X_train_sc, np.array(Y_train).ravel())\n",
    "score_2 = cross_val_score(model, X_train_sc, Y_train, scoring='accuracy', cv=10).mean()*100\n",
    "print('Accuracy' + \" \" + str(score_2) + \" \" + \"%\")"
   ]
  },
  {
   "cell_type": "markdown",
   "metadata": {},
   "source": [
    "**The SVM model returns a accuracy of 82.48%.**"
   ]
  },
  {
   "cell_type": "markdown",
   "metadata": {},
   "source": [
    "**Use different paramters to tune the model**"
   ]
  },
  {
   "cell_type": "code",
   "execution_count": null,
   "metadata": {},
   "outputs": [],
   "source": [
    "folds = model_selection.ShuffleSplit(n_splits=5,test_size=0.3,random_state=0)\n",
    "gamma = [0.001,0.1,0.2,0.3,0.4,0.5,0.6,0.7,0.8,0.9,1]\n",
    "train_svm= []\n",
    "for n in gamma:\n",
    "   svm_model = SVC(C=1,kernel='rbf',gamma=n,cache_size=2000)\n",
    "   accuracy = cross_val_score(svm_model, X_train_sc, Y_train, cv=folds).mean()*100\n",
    "   train_svm.append(accuracy)"
   ]
  },
  {
   "cell_type": "code",
   "execution_count": 77,
   "metadata": {},
   "outputs": [
    {
     "data": {
      "text/plain": [
       "[83.9047619047619,\n",
       " 73.42857142857142,\n",
       " 26.523809523809522,\n",
       " 18.714285714285715,\n",
       " 17.28571428571429,\n",
       " 16.04761904761905,\n",
       " 12.095238095238097,\n",
       " 11.857142857142858,\n",
       " 11.761904761904763,\n",
       " 11.61904761904762,\n",
       " 11.571428571428573]"
      ]
     },
     "execution_count": 77,
     "metadata": {},
     "output_type": "execute_result"
    }
   ],
   "source": [
    "train_svm"
   ]
  },
  {
   "cell_type": "markdown",
   "metadata": {},
   "source": [
    "# CROSS VALIDATION FOR SVM - GridSearchCV"
   ]
  },
  {
   "cell_type": "code",
   "execution_count": 82,
   "metadata": {},
   "outputs": [
    {
     "data": {
      "text/plain": [
       "GridSearchCV(cv=ShuffleSplit(n_splits=5, random_state=0, test_size=0.3, train_size=None),\n",
       "       error_score='raise-deprecating',\n",
       "       estimator=SVC(C=1, cache_size=2000, class_weight=None, coef0=0.0,\n",
       "  decision_function_shape='ovr', degree=3, gamma=1, kernel='rbf',\n",
       "  max_iter=-1, probability=False, random_state=None, shrinking=True,\n",
       "  tol=0.001, verbose=False),\n",
       "       fit_params=None, iid='warn', n_jobs=None,\n",
       "       param_grid={'C': [1], 'gamma': [0.003, 0.005, 0.025, 0.05]},\n",
       "       pre_dispatch='2*n_jobs', refit=True, return_train_score='warn',\n",
       "       scoring='accuracy', verbose=0)"
      ]
     },
     "execution_count": 82,
     "metadata": {},
     "output_type": "execute_result"
    }
   ],
   "source": [
    "par_grid = {'C':[1],'gamma':[0.003,0.005,0.025,0.05]}\n",
    "svm_model_cv = GridSearchCV(svm_model,par_grid,cv=folds,scoring = 'accuracy')\n",
    "svm_model_cv.fit(X_train_sc, Y_train)"
   ]
  },
  {
   "cell_type": "markdown",
   "metadata": {},
   "source": [
    "**Finding the best parameters for the SVM Model**"
   ]
  },
  {
   "cell_type": "code",
   "execution_count": 83,
   "metadata": {},
   "outputs": [
    {
     "data": {
      "text/plain": [
       "{'C': 1, 'gamma': 0.025}"
      ]
     },
     "execution_count": 83,
     "metadata": {},
     "output_type": "execute_result"
    }
   ],
   "source": [
    "svm_model_cv.best_params_"
   ]
  },
  {
   "cell_type": "code",
   "execution_count": 84,
   "metadata": {},
   "outputs": [
    {
     "data": {
      "text/plain": [
       "0.9266666666666666"
      ]
     },
     "execution_count": 84,
     "metadata": {},
     "output_type": "execute_result"
    }
   ],
   "source": [
    "svm_model_cv.best_score_"
   ]
  },
  {
   "cell_type": "code",
   "execution_count": 88,
   "metadata": {},
   "outputs": [
    {
     "name": "stdout",
     "output_type": "stream",
     "text": [
      "Accuracy 92.66666666666666 %\n"
     ]
    }
   ],
   "source": [
    "acc = cross_val_score(svm_model_cv, X_train_sc, Y_train, cv=folds).mean()*100\n",
    "print('Accuracy' + \" \" + str(acc) + \" \" + \"%\")"
   ]
  },
  {
   "cell_type": "markdown",
   "metadata": {},
   "source": [
    "**The SVM model returns an accuracy of 92.66% after performing Cross Validation**"
   ]
  },
  {
   "cell_type": "markdown",
   "metadata": {},
   "source": [
    "**The SVM model is applied to the testing data to predict the 'Label' values**"
   ]
  },
  {
   "cell_type": "code",
   "execution_count": 107,
   "metadata": {},
   "outputs": [
    {
     "data": {
      "text/plain": [
       "array([2, 0, 9, 4, 3, 7, 0, 3, 0, 3, 5, 7, 4, 0, 4, 3, 3, 1, 9, 0, 9, 1,\n",
       "       1, 5, 7, 4, 2, 7, 9, 7, 7, 5, 4, 2, 6, 2, 5, 5, 1, 6, 7, 7, 4, 9,\n",
       "       8, 7, 8, 8, 6, 7, 6, 8, 8, 3, 8, 2, 1, 2, 5, 0, 4, 1, 7, 0, 0, 0,\n",
       "       1, 9, 0, 1, 6, 5, 8, 8, 2, 8, 3, 9, 2, 3, 5, 9, 1, 0, 9, 2, 4, 3,\n",
       "       6, 7, 2, 0, 6, 6, 1, 4, 3, 8, 7, 4, 0, 3, 2, 0, 7, 3, 0, 5, 0, 3,\n",
       "       0, 0, 4, 7, 1, 7, 1, 1, 3, 3, 3, 7, 2, 8, 6, 3, 8, 7, 8, 4, 3, 5,\n",
       "       6, 0, 0, 0, 3, 1, 3, 0, 4, 3, 4, 5, 5, 8, 7, 7, 2, 8, 4, 3, 5, 6,\n",
       "       5, 8, 7, 5, 7, 8, 3, 0, 4, 5, 1, 8, 7, 6, 3, 0, 2, 7, 9, 6, 1, 3,\n",
       "       7, 4, 1, 2, 4, 8, 5, 2, 4, 9, 2, 1, 6, 0, 6, 1, 4, 9, 6, 0, 9, 7,\n",
       "       6, 9, 1, 9, 0, 9, 9, 0, 8, 4, 6, 2, 0, 9, 3, 6, 7, 2, 1, 6, 3, 4,\n",
       "       2, 3, 1, 2, 2, 0, 4, 6, 1, 0, 0, 4, 9, 1, 7, 3, 2, 8, 8, 6, 8, 6,\n",
       "       2, 8, 5, 5, 4, 8, 3, 8, 9, 7, 1, 3, 8, 4, 5, 1, 4, 5, 6, 3, 3, 5,\n",
       "       7, 0, 6, 8, 6, 1, 6, 0, 6, 3, 9, 9, 1, 5, 8, 4, 0, 9, 2, 0, 5, 3,\n",
       "       7, 1, 9, 9, 5, 7, 7, 9, 9, 6, 3, 0, 3, 3, 6, 9, 8, 2, 6, 3, 7, 1,\n",
       "       4, 5, 8, 5, 9, 0, 0, 3, 8, 4, 1, 8, 4, 1, 1, 9, 8, 4, 5, 1, 5, 3,\n",
       "       6, 3, 1, 3, 0, 8, 0, 0, 6, 0, 6, 2, 1, 8, 6, 0, 6, 5, 2, 2, 6, 7,\n",
       "       7, 2, 5, 8, 8, 9, 2, 7, 8, 6, 3, 8, 4, 2, 3, 8, 1, 6, 4, 8, 9, 9,\n",
       "       7, 6, 9, 5, 3, 7, 6, 5, 5, 4, 2, 6, 2, 1, 3, 7, 1, 7, 9, 9, 6, 1,\n",
       "       1, 1, 7, 3, 9, 7, 6, 1, 1, 1, 9, 3, 5, 5, 5, 0, 4, 1, 2, 3, 1, 1,\n",
       "       3, 5, 9, 6, 6, 5, 3, 1, 4, 7, 4, 7, 4, 8, 5, 2, 6, 1, 3, 9, 5, 0,\n",
       "       8, 4, 7, 4, 9, 4, 1, 5, 3, 9, 5, 7, 6, 9, 5, 9, 2, 3, 5, 6, 6, 7,\n",
       "       5, 0, 5, 1, 7, 4, 4, 1, 1, 4, 9, 5, 6, 0, 1, 3, 1, 0, 4, 8, 1, 2,\n",
       "       7, 9, 4, 8, 3, 7, 0, 4, 2, 4, 6, 7, 5, 3, 2, 0, 6, 5, 9, 4, 1, 8,\n",
       "       3, 3, 0, 6, 7, 5, 8, 7, 5, 3, 5, 7, 4, 2, 2, 9, 0, 7, 7, 1, 0, 1,\n",
       "       1, 7, 0, 5, 3, 8, 3, 5, 6, 5, 4, 3, 0, 2, 8, 2, 0, 3, 0, 9, 2, 1,\n",
       "       1, 3, 0, 5, 0, 0, 7, 5, 6, 2, 0, 3, 8, 1, 6, 5, 4, 1, 1, 4, 6, 5,\n",
       "       3, 6, 0, 4, 8, 2, 4, 2, 5, 1, 2, 6, 9, 1, 7, 3, 8, 0, 8, 8, 8, 5,\n",
       "       3, 6, 6, 6, 0, 3, 1, 1, 7, 1, 6, 2, 8, 5, 6, 4, 7, 4, 3, 3, 2, 4,\n",
       "       7, 0, 0, 9, 8, 5, 9, 4, 0, 8, 1, 3, 6, 7, 6, 1, 8, 6, 1, 4, 7, 7,\n",
       "       8, 3, 0, 9, 9, 6, 5, 7, 4, 4, 1, 8, 4, 9, 0, 0, 8, 2, 4, 3, 3, 7,\n",
       "       2, 3, 4, 0, 4, 8, 1, 3, 3, 6, 3, 9, 4, 3, 8, 7, 7, 5, 6, 0, 6, 9,\n",
       "       8, 1, 1, 3, 4, 6, 9, 9, 2, 6, 0, 1, 8, 4, 3, 9, 8, 8, 4, 0, 5, 0,\n",
       "       6, 0, 4, 4, 6, 5, 5, 8, 1, 5, 3, 6, 2, 3, 7, 8, 9, 3, 1, 0, 1, 0,\n",
       "       6, 4, 7, 5, 7, 1, 3, 2, 7, 7, 1, 6, 1, 5, 4, 4, 3, 4, 3, 9, 0, 7,\n",
       "       8, 6, 4, 9, 4, 4, 1, 4, 7, 1, 1, 8, 7, 0, 4, 0, 4, 0, 0, 5, 1, 8,\n",
       "       6, 5, 0, 1, 5, 3, 4, 6, 3, 1, 1, 6, 9, 8, 3, 5, 5, 9, 3, 8, 5, 0,\n",
       "       4, 0, 4, 3, 1, 6, 9, 7, 1, 1, 3, 3, 1, 4, 9, 6, 9, 1, 5, 4, 2, 3,\n",
       "       4, 4, 0, 9, 7, 4, 3, 0, 5, 0, 1, 9, 0, 4, 5, 2, 8, 5, 5, 9, 3, 9,\n",
       "       6, 1, 5, 5, 1, 9, 0, 8, 4, 6, 7, 2, 8, 5, 8, 9, 7, 7, 2, 8, 1, 3,\n",
       "       4, 5, 0, 4, 1, 4, 2, 3, 6, 9, 2, 3, 4, 5, 4, 2, 3, 8, 1, 1, 0, 1,\n",
       "       4, 9, 1, 1, 2, 7, 1, 5, 4, 9, 1, 7, 6, 0, 4, 2, 9, 9, 1, 1, 5, 3,\n",
       "       5, 7, 9, 7, 8, 3, 2, 7, 2, 0, 4, 7, 1, 8, 4, 6, 1, 0, 7, 3, 5, 9,\n",
       "       4, 7, 9, 6, 6, 3, 3, 2, 1, 4, 5, 3, 7, 7, 9, 5, 6, 2, 6, 1, 0, 9,\n",
       "       3, 2, 9, 2, 6, 7, 5, 2, 3, 2, 8, 3, 0, 2, 7, 9, 4, 0, 0, 5, 1, 8,\n",
       "       8, 5, 3, 2, 9, 6, 7, 0, 8, 0, 7, 4, 5, 8, 7, 9, 7, 7, 0, 5, 3, 2,\n",
       "       1, 9, 0, 6, 8, 3, 6, 2, 2, 1], dtype=int64)"
      ]
     },
     "execution_count": 107,
     "metadata": {},
     "output_type": "execute_result"
    }
   ],
   "source": [
    "svm_model_cv.predict(X_test_sc)"
   ]
  },
  {
   "cell_type": "code",
   "execution_count": 124,
   "metadata": {},
   "outputs": [],
   "source": [
    "result=svm_model_cv.predict(X_test_sc)"
   ]
  },
  {
   "cell_type": "markdown",
   "metadata": {},
   "source": [
    "# The 3 different algorithms are compared based on the accuracy rate."
   ]
  },
  {
   "cell_type": "code",
   "execution_count": 111,
   "metadata": {},
   "outputs": [],
   "source": [
    "Algorithm_comparison = pd.DataFrame( { \"Naive Bayes-MultinomialNB\" :score_2,\"Random Forest\" : score,\"SVM-RBF\" : acc}, index=[1])"
   ]
  },
  {
   "cell_type": "code",
   "execution_count": 112,
   "metadata": {},
   "outputs": [
    {
     "data": {
      "text/html": [
       "<div>\n",
       "<style scoped>\n",
       "    .dataframe tbody tr th:only-of-type {\n",
       "        vertical-align: middle;\n",
       "    }\n",
       "\n",
       "    .dataframe tbody tr th {\n",
       "        vertical-align: top;\n",
       "    }\n",
       "\n",
       "    .dataframe thead th {\n",
       "        text-align: right;\n",
       "    }\n",
       "</style>\n",
       "<table border=\"1\" class=\"dataframe\">\n",
       "  <thead>\n",
       "    <tr style=\"text-align: right;\">\n",
       "      <th></th>\n",
       "      <th>Naive Bayes-MultinomialNB</th>\n",
       "      <th>Random Forest</th>\n",
       "      <th>SVM-RBF</th>\n",
       "    </tr>\n",
       "  </thead>\n",
       "  <tbody>\n",
       "    <tr>\n",
       "      <th>1</th>\n",
       "      <td>86.291289</td>\n",
       "      <td>91.767539</td>\n",
       "      <td>92.666667</td>\n",
       "    </tr>\n",
       "  </tbody>\n",
       "</table>\n",
       "</div>"
      ],
      "text/plain": [
       "   Naive Bayes-MultinomialNB  Random Forest    SVM-RBF\n",
       "1                  86.291289      91.767539  92.666667"
      ]
     },
     "execution_count": 112,
     "metadata": {},
     "output_type": "execute_result"
    }
   ],
   "source": [
    "Algorithm_comparison"
   ]
  },
  {
   "cell_type": "markdown",
   "metadata": {},
   "source": [
    "**By Comparing all the 3 algorithms we are able to see that Support Vector classifier returns highest accuracy for this dataset. Random Forest gave similar results but it was time consuming and the complexity was increased due to tuning of the parameters. Random Forest are robust to overfitting as well. Using Cross validation make all the models computationally expensive when compared to model with default settings. In the end, SVM edged out Random forest with a better accuracy rate and less time consumption.** "
   ]
  }
 ],
 "metadata": {
  "kernelspec": {
   "display_name": "Python 3",
   "language": "python",
   "name": "python3"
  },
  "language_info": {
   "codemirror_mode": {
    "name": "ipython",
    "version": 3
   },
   "file_extension": ".py",
   "mimetype": "text/x-python",
   "name": "python",
   "nbconvert_exporter": "python",
   "pygments_lexer": "ipython3",
   "version": "3.7.3"
  }
 },
 "nbformat": 4,
 "nbformat_minor": 2
}
